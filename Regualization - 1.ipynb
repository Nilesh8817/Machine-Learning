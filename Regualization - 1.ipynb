{
 "cells": [
  {
   "cell_type": "code",
   "execution_count": 1,
   "metadata": {
    "executionInfo": {
     "elapsed": 1993,
     "status": "ok",
     "timestamp": 1618802272701,
     "user": {
      "displayName": "Nilesh Lad",
      "photoUrl": "",
      "userId": "15901509142618669299"
     },
     "user_tz": -330
    },
    "id": "vuwKLJsrhOeU"
   },
   "outputs": [],
   "source": [
    "import numpy as np\n",
    "import pandas as pd\n",
    "import matplotlib.pyplot as plt\n",
    "import seaborn as sns\n",
    "\n",
    "import warnings\n",
    "warnings.filterwarnings(\"ignore\")"
   ]
  },
  {
   "cell_type": "code",
   "execution_count": 2,
   "metadata": {
    "executionInfo": {
     "elapsed": 2572,
     "status": "ok",
     "timestamp": 1618802273306,
     "user": {
      "displayName": "Nilesh Lad",
      "photoUrl": "",
      "userId": "15901509142618669299"
     },
     "user_tz": -330
    },
    "id": "PJJ-o4bfhOea"
   },
   "outputs": [],
   "source": [
    "df = pd.read_csv(\"melb_data.csv\")"
   ]
  },
  {
   "cell_type": "markdown",
   "metadata": {
    "id": "W7em0yTbhOed"
   },
   "source": [
    "<li>Rooms: Number of rooms</li>\n",
    "<li>Price: Price in dollars</li>\n",
    "<li>Method: S - property sold; SP - property sold prior; PI - property passed in; PN - sold prior not disclosed; SN - sold not disclosed; NB - no bid; VB - vendor bid; W - withdrawn prior to auction; SA - sold after auction; SS - sold after auction price not disclosed. N/A - price or highest bid not available.</li>\n",
    "<li>Type: br - bedroom(s); h - house,cottage,villa, semi,terrace; u - unit, duplex; t - townhouse; dev site - development site; o res - other residential.</li>\n",
    "<li>SellerG: Real Estate Agent</li>\n",
    "<li>Date: Date sold</li>\n",
    "<li>Distance: Distance from CBD</li>\n",
    "<li>Regionname: General Region (West, North West, North, North east …etc)</li>\n",
    "<li>Propertycount: Number of properties that exist in the suburb.</li>\n",
    "<li>Bedroom2 : Scraped # of Bedrooms (from different source)</li>\n",
    "<li>Bathroom: Number of Bathrooms</li>\n",
    "<li>Car: Number of carspots</li>\n",
    "<li>Landsize: Land Size</li>\n",
    "<li>BuildingArea: Building Size</li>\n",
    "<li>CouncilArea: Governing council for the area</li>"
   ]
  },
  {
   "cell_type": "code",
   "execution_count": 3,
   "metadata": {
    "colab": {
     "base_uri": "https://localhost:8080/",
     "height": 343
    },
    "executionInfo": {
     "elapsed": 2558,
     "status": "ok",
     "timestamp": 1618802273307,
     "user": {
      "displayName": "Nilesh Lad",
      "photoUrl": "",
      "userId": "15901509142618669299"
     },
     "user_tz": -330
    },
    "id": "bkWNDTU1hOeh",
    "outputId": "9b1863a6-3a99-4ee6-b069-f21e0aaeb653"
   },
   "outputs": [
    {
     "data": {
      "text/html": [
       "<div>\n",
       "<style scoped>\n",
       "    .dataframe tbody tr th:only-of-type {\n",
       "        vertical-align: middle;\n",
       "    }\n",
       "\n",
       "    .dataframe tbody tr th {\n",
       "        vertical-align: top;\n",
       "    }\n",
       "\n",
       "    .dataframe thead th {\n",
       "        text-align: right;\n",
       "    }\n",
       "</style>\n",
       "<table border=\"1\" class=\"dataframe\">\n",
       "  <thead>\n",
       "    <tr style=\"text-align: right;\">\n",
       "      <th></th>\n",
       "      <th>Suburb</th>\n",
       "      <th>Address</th>\n",
       "      <th>Rooms</th>\n",
       "      <th>Type</th>\n",
       "      <th>Price</th>\n",
       "      <th>Method</th>\n",
       "      <th>SellerG</th>\n",
       "      <th>Date</th>\n",
       "      <th>Distance</th>\n",
       "      <th>Postcode</th>\n",
       "      <th>...</th>\n",
       "      <th>Bathroom</th>\n",
       "      <th>Car</th>\n",
       "      <th>Landsize</th>\n",
       "      <th>BuildingArea</th>\n",
       "      <th>YearBuilt</th>\n",
       "      <th>CouncilArea</th>\n",
       "      <th>Lattitude</th>\n",
       "      <th>Longtitude</th>\n",
       "      <th>Regionname</th>\n",
       "      <th>Propertycount</th>\n",
       "    </tr>\n",
       "  </thead>\n",
       "  <tbody>\n",
       "    <tr>\n",
       "      <th>0</th>\n",
       "      <td>Abbotsford</td>\n",
       "      <td>85 Turner St</td>\n",
       "      <td>2</td>\n",
       "      <td>h</td>\n",
       "      <td>1480000.0</td>\n",
       "      <td>S</td>\n",
       "      <td>Biggin</td>\n",
       "      <td>3/12/2016</td>\n",
       "      <td>2.5</td>\n",
       "      <td>3067.0</td>\n",
       "      <td>...</td>\n",
       "      <td>1.0</td>\n",
       "      <td>1.0</td>\n",
       "      <td>202.0</td>\n",
       "      <td>NaN</td>\n",
       "      <td>NaN</td>\n",
       "      <td>Yarra</td>\n",
       "      <td>-37.7996</td>\n",
       "      <td>144.9984</td>\n",
       "      <td>Northern Metropolitan</td>\n",
       "      <td>4019.0</td>\n",
       "    </tr>\n",
       "    <tr>\n",
       "      <th>1</th>\n",
       "      <td>Abbotsford</td>\n",
       "      <td>25 Bloomburg St</td>\n",
       "      <td>2</td>\n",
       "      <td>h</td>\n",
       "      <td>1035000.0</td>\n",
       "      <td>S</td>\n",
       "      <td>Biggin</td>\n",
       "      <td>4/02/2016</td>\n",
       "      <td>2.5</td>\n",
       "      <td>3067.0</td>\n",
       "      <td>...</td>\n",
       "      <td>1.0</td>\n",
       "      <td>0.0</td>\n",
       "      <td>156.0</td>\n",
       "      <td>79.0</td>\n",
       "      <td>1900.0</td>\n",
       "      <td>Yarra</td>\n",
       "      <td>-37.8079</td>\n",
       "      <td>144.9934</td>\n",
       "      <td>Northern Metropolitan</td>\n",
       "      <td>4019.0</td>\n",
       "    </tr>\n",
       "    <tr>\n",
       "      <th>2</th>\n",
       "      <td>Abbotsford</td>\n",
       "      <td>5 Charles St</td>\n",
       "      <td>3</td>\n",
       "      <td>h</td>\n",
       "      <td>1465000.0</td>\n",
       "      <td>SP</td>\n",
       "      <td>Biggin</td>\n",
       "      <td>4/03/2017</td>\n",
       "      <td>2.5</td>\n",
       "      <td>3067.0</td>\n",
       "      <td>...</td>\n",
       "      <td>2.0</td>\n",
       "      <td>0.0</td>\n",
       "      <td>134.0</td>\n",
       "      <td>150.0</td>\n",
       "      <td>1900.0</td>\n",
       "      <td>Yarra</td>\n",
       "      <td>-37.8093</td>\n",
       "      <td>144.9944</td>\n",
       "      <td>Northern Metropolitan</td>\n",
       "      <td>4019.0</td>\n",
       "    </tr>\n",
       "    <tr>\n",
       "      <th>3</th>\n",
       "      <td>Abbotsford</td>\n",
       "      <td>40 Federation La</td>\n",
       "      <td>3</td>\n",
       "      <td>h</td>\n",
       "      <td>850000.0</td>\n",
       "      <td>PI</td>\n",
       "      <td>Biggin</td>\n",
       "      <td>4/03/2017</td>\n",
       "      <td>2.5</td>\n",
       "      <td>3067.0</td>\n",
       "      <td>...</td>\n",
       "      <td>2.0</td>\n",
       "      <td>1.0</td>\n",
       "      <td>94.0</td>\n",
       "      <td>NaN</td>\n",
       "      <td>NaN</td>\n",
       "      <td>Yarra</td>\n",
       "      <td>-37.7969</td>\n",
       "      <td>144.9969</td>\n",
       "      <td>Northern Metropolitan</td>\n",
       "      <td>4019.0</td>\n",
       "    </tr>\n",
       "    <tr>\n",
       "      <th>4</th>\n",
       "      <td>Abbotsford</td>\n",
       "      <td>55a Park St</td>\n",
       "      <td>4</td>\n",
       "      <td>h</td>\n",
       "      <td>1600000.0</td>\n",
       "      <td>VB</td>\n",
       "      <td>Nelson</td>\n",
       "      <td>4/06/2016</td>\n",
       "      <td>2.5</td>\n",
       "      <td>3067.0</td>\n",
       "      <td>...</td>\n",
       "      <td>1.0</td>\n",
       "      <td>2.0</td>\n",
       "      <td>120.0</td>\n",
       "      <td>142.0</td>\n",
       "      <td>2014.0</td>\n",
       "      <td>Yarra</td>\n",
       "      <td>-37.8072</td>\n",
       "      <td>144.9941</td>\n",
       "      <td>Northern Metropolitan</td>\n",
       "      <td>4019.0</td>\n",
       "    </tr>\n",
       "  </tbody>\n",
       "</table>\n",
       "<p>5 rows × 21 columns</p>\n",
       "</div>"
      ],
      "text/plain": [
       "       Suburb           Address  Rooms Type      Price Method SellerG  \\\n",
       "0  Abbotsford      85 Turner St      2    h  1480000.0      S  Biggin   \n",
       "1  Abbotsford   25 Bloomburg St      2    h  1035000.0      S  Biggin   \n",
       "2  Abbotsford      5 Charles St      3    h  1465000.0     SP  Biggin   \n",
       "3  Abbotsford  40 Federation La      3    h   850000.0     PI  Biggin   \n",
       "4  Abbotsford       55a Park St      4    h  1600000.0     VB  Nelson   \n",
       "\n",
       "        Date  Distance  Postcode  ...  Bathroom  Car  Landsize  BuildingArea  \\\n",
       "0  3/12/2016       2.5    3067.0  ...       1.0  1.0     202.0           NaN   \n",
       "1  4/02/2016       2.5    3067.0  ...       1.0  0.0     156.0          79.0   \n",
       "2  4/03/2017       2.5    3067.0  ...       2.0  0.0     134.0         150.0   \n",
       "3  4/03/2017       2.5    3067.0  ...       2.0  1.0      94.0           NaN   \n",
       "4  4/06/2016       2.5    3067.0  ...       1.0  2.0     120.0         142.0   \n",
       "\n",
       "   YearBuilt  CouncilArea Lattitude  Longtitude             Regionname  \\\n",
       "0        NaN        Yarra  -37.7996    144.9984  Northern Metropolitan   \n",
       "1     1900.0        Yarra  -37.8079    144.9934  Northern Metropolitan   \n",
       "2     1900.0        Yarra  -37.8093    144.9944  Northern Metropolitan   \n",
       "3        NaN        Yarra  -37.7969    144.9969  Northern Metropolitan   \n",
       "4     2014.0        Yarra  -37.8072    144.9941  Northern Metropolitan   \n",
       "\n",
       "  Propertycount  \n",
       "0        4019.0  \n",
       "1        4019.0  \n",
       "2        4019.0  \n",
       "3        4019.0  \n",
       "4        4019.0  \n",
       "\n",
       "[5 rows x 21 columns]"
      ]
     },
     "execution_count": 3,
     "metadata": {},
     "output_type": "execute_result"
    }
   ],
   "source": [
    "df.head()"
   ]
  },
  {
   "cell_type": "code",
   "execution_count": 4,
   "metadata": {
    "colab": {
     "base_uri": "https://localhost:8080/"
    },
    "executionInfo": {
     "elapsed": 2545,
     "status": "ok",
     "timestamp": 1618802273310,
     "user": {
      "displayName": "Nilesh Lad",
      "photoUrl": "",
      "userId": "15901509142618669299"
     },
     "user_tz": -330
    },
    "id": "Z7ky1I3KhOek",
    "outputId": "63b62c02-5114-4f9c-eb69-ad214c09b240"
   },
   "outputs": [
    {
     "name": "stdout",
     "output_type": "stream",
     "text": [
      "<class 'pandas.core.frame.DataFrame'>\n",
      "RangeIndex: 13580 entries, 0 to 13579\n",
      "Data columns (total 21 columns):\n",
      " #   Column         Non-Null Count  Dtype  \n",
      "---  ------         --------------  -----  \n",
      " 0   Suburb         13580 non-null  object \n",
      " 1   Address        13580 non-null  object \n",
      " 2   Rooms          13580 non-null  int64  \n",
      " 3   Type           13580 non-null  object \n",
      " 4   Price          13580 non-null  float64\n",
      " 5   Method         13580 non-null  object \n",
      " 6   SellerG        13580 non-null  object \n",
      " 7   Date           13580 non-null  object \n",
      " 8   Distance       13580 non-null  float64\n",
      " 9   Postcode       13580 non-null  float64\n",
      " 10  Bedroom2       13580 non-null  float64\n",
      " 11  Bathroom       13580 non-null  float64\n",
      " 12  Car            13518 non-null  float64\n",
      " 13  Landsize       13580 non-null  float64\n",
      " 14  BuildingArea   7130 non-null   float64\n",
      " 15  YearBuilt      8205 non-null   float64\n",
      " 16  CouncilArea    12211 non-null  object \n",
      " 17  Lattitude      13580 non-null  float64\n",
      " 18  Longtitude     13580 non-null  float64\n",
      " 19  Regionname     13580 non-null  object \n",
      " 20  Propertycount  13580 non-null  float64\n",
      "dtypes: float64(12), int64(1), object(8)\n",
      "memory usage: 2.2+ MB\n"
     ]
    }
   ],
   "source": [
    "df.info()"
   ]
  },
  {
   "cell_type": "code",
   "execution_count": 5,
   "metadata": {
    "colab": {
     "base_uri": "https://localhost:8080/"
    },
    "executionInfo": {
     "elapsed": 2541,
     "status": "ok",
     "timestamp": 1618802273317,
     "user": {
      "displayName": "Nilesh Lad",
      "photoUrl": "",
      "userId": "15901509142618669299"
     },
     "user_tz": -330
    },
    "id": "SNFWjO0EhOem",
    "outputId": "7364198c-27ba-4465-ef7e-e47b8f07e3bd"
   },
   "outputs": [
    {
     "data": {
      "text/plain": [
       "Suburb              0\n",
       "Address             0\n",
       "Rooms               0\n",
       "Type                0\n",
       "Price               0\n",
       "Method              0\n",
       "SellerG             0\n",
       "Date                0\n",
       "Distance            0\n",
       "Postcode            0\n",
       "Bedroom2            0\n",
       "Bathroom            0\n",
       "Car                62\n",
       "Landsize            0\n",
       "BuildingArea     6450\n",
       "YearBuilt        5375\n",
       "CouncilArea      1369\n",
       "Lattitude           0\n",
       "Longtitude          0\n",
       "Regionname          0\n",
       "Propertycount       0\n",
       "dtype: int64"
      ]
     },
     "execution_count": 5,
     "metadata": {},
     "output_type": "execute_result"
    }
   ],
   "source": [
    "df.isnull().sum()"
   ]
  },
  {
   "cell_type": "code",
   "execution_count": 6,
   "metadata": {
    "colab": {
     "base_uri": "https://localhost:8080/"
    },
    "executionInfo": {
     "elapsed": 2530,
     "status": "ok",
     "timestamp": 1618802273319,
     "user": {
      "displayName": "Nilesh Lad",
      "photoUrl": "",
      "userId": "15901509142618669299"
     },
     "user_tz": -330
    },
    "id": "zh-BLVIHhOen",
    "outputId": "b8dc41cb-c1c8-4ea7-e877-eba30fc67de5"
   },
   "outputs": [
    {
     "data": {
      "text/plain": [
       "(13580, 21)"
      ]
     },
     "execution_count": 6,
     "metadata": {},
     "output_type": "execute_result"
    }
   ],
   "source": [
    "df.shape"
   ]
  },
  {
   "cell_type": "code",
   "execution_count": 7,
   "metadata": {
    "colab": {
     "base_uri": "https://localhost:8080/",
     "height": 317
    },
    "executionInfo": {
     "elapsed": 3226,
     "status": "ok",
     "timestamp": 1618802274037,
     "user": {
      "displayName": "Nilesh Lad",
      "photoUrl": "",
      "userId": "15901509142618669299"
     },
     "user_tz": -330
    },
    "id": "m_vvQe00hOep",
    "outputId": "0a02b77c-7089-41b0-e261-7e21f876960c"
   },
   "outputs": [
    {
     "data": {
      "text/html": [
       "<div>\n",
       "<style scoped>\n",
       "    .dataframe tbody tr th:only-of-type {\n",
       "        vertical-align: middle;\n",
       "    }\n",
       "\n",
       "    .dataframe tbody tr th {\n",
       "        vertical-align: top;\n",
       "    }\n",
       "\n",
       "    .dataframe thead th {\n",
       "        text-align: right;\n",
       "    }\n",
       "</style>\n",
       "<table border=\"1\" class=\"dataframe\">\n",
       "  <thead>\n",
       "    <tr style=\"text-align: right;\">\n",
       "      <th></th>\n",
       "      <th>Rooms</th>\n",
       "      <th>Price</th>\n",
       "      <th>Distance</th>\n",
       "      <th>Postcode</th>\n",
       "      <th>Bedroom2</th>\n",
       "      <th>Bathroom</th>\n",
       "      <th>Car</th>\n",
       "      <th>Landsize</th>\n",
       "      <th>BuildingArea</th>\n",
       "      <th>YearBuilt</th>\n",
       "      <th>Lattitude</th>\n",
       "      <th>Longtitude</th>\n",
       "      <th>Propertycount</th>\n",
       "    </tr>\n",
       "  </thead>\n",
       "  <tbody>\n",
       "    <tr>\n",
       "      <th>count</th>\n",
       "      <td>13580.000000</td>\n",
       "      <td>1.358000e+04</td>\n",
       "      <td>13580.000000</td>\n",
       "      <td>13580.000000</td>\n",
       "      <td>13580.000000</td>\n",
       "      <td>13580.000000</td>\n",
       "      <td>13518.000000</td>\n",
       "      <td>13580.000000</td>\n",
       "      <td>7130.000000</td>\n",
       "      <td>8205.000000</td>\n",
       "      <td>13580.000000</td>\n",
       "      <td>13580.000000</td>\n",
       "      <td>13580.000000</td>\n",
       "    </tr>\n",
       "    <tr>\n",
       "      <th>mean</th>\n",
       "      <td>2.937997</td>\n",
       "      <td>1.075684e+06</td>\n",
       "      <td>10.137776</td>\n",
       "      <td>3105.301915</td>\n",
       "      <td>2.914728</td>\n",
       "      <td>1.534242</td>\n",
       "      <td>1.610075</td>\n",
       "      <td>558.416127</td>\n",
       "      <td>151.967650</td>\n",
       "      <td>1964.684217</td>\n",
       "      <td>-37.809203</td>\n",
       "      <td>144.995216</td>\n",
       "      <td>7454.417378</td>\n",
       "    </tr>\n",
       "    <tr>\n",
       "      <th>std</th>\n",
       "      <td>0.955748</td>\n",
       "      <td>6.393107e+05</td>\n",
       "      <td>5.868725</td>\n",
       "      <td>90.676964</td>\n",
       "      <td>0.965921</td>\n",
       "      <td>0.691712</td>\n",
       "      <td>0.962634</td>\n",
       "      <td>3990.669241</td>\n",
       "      <td>541.014538</td>\n",
       "      <td>37.273762</td>\n",
       "      <td>0.079260</td>\n",
       "      <td>0.103916</td>\n",
       "      <td>4378.581772</td>\n",
       "    </tr>\n",
       "    <tr>\n",
       "      <th>min</th>\n",
       "      <td>1.000000</td>\n",
       "      <td>8.500000e+04</td>\n",
       "      <td>0.000000</td>\n",
       "      <td>3000.000000</td>\n",
       "      <td>0.000000</td>\n",
       "      <td>0.000000</td>\n",
       "      <td>0.000000</td>\n",
       "      <td>0.000000</td>\n",
       "      <td>0.000000</td>\n",
       "      <td>1196.000000</td>\n",
       "      <td>-38.182550</td>\n",
       "      <td>144.431810</td>\n",
       "      <td>249.000000</td>\n",
       "    </tr>\n",
       "    <tr>\n",
       "      <th>25%</th>\n",
       "      <td>2.000000</td>\n",
       "      <td>6.500000e+05</td>\n",
       "      <td>6.100000</td>\n",
       "      <td>3044.000000</td>\n",
       "      <td>2.000000</td>\n",
       "      <td>1.000000</td>\n",
       "      <td>1.000000</td>\n",
       "      <td>177.000000</td>\n",
       "      <td>93.000000</td>\n",
       "      <td>1940.000000</td>\n",
       "      <td>-37.856822</td>\n",
       "      <td>144.929600</td>\n",
       "      <td>4380.000000</td>\n",
       "    </tr>\n",
       "    <tr>\n",
       "      <th>50%</th>\n",
       "      <td>3.000000</td>\n",
       "      <td>9.030000e+05</td>\n",
       "      <td>9.200000</td>\n",
       "      <td>3084.000000</td>\n",
       "      <td>3.000000</td>\n",
       "      <td>1.000000</td>\n",
       "      <td>2.000000</td>\n",
       "      <td>440.000000</td>\n",
       "      <td>126.000000</td>\n",
       "      <td>1970.000000</td>\n",
       "      <td>-37.802355</td>\n",
       "      <td>145.000100</td>\n",
       "      <td>6555.000000</td>\n",
       "    </tr>\n",
       "    <tr>\n",
       "      <th>75%</th>\n",
       "      <td>3.000000</td>\n",
       "      <td>1.330000e+06</td>\n",
       "      <td>13.000000</td>\n",
       "      <td>3148.000000</td>\n",
       "      <td>3.000000</td>\n",
       "      <td>2.000000</td>\n",
       "      <td>2.000000</td>\n",
       "      <td>651.000000</td>\n",
       "      <td>174.000000</td>\n",
       "      <td>1999.000000</td>\n",
       "      <td>-37.756400</td>\n",
       "      <td>145.058305</td>\n",
       "      <td>10331.000000</td>\n",
       "    </tr>\n",
       "    <tr>\n",
       "      <th>max</th>\n",
       "      <td>10.000000</td>\n",
       "      <td>9.000000e+06</td>\n",
       "      <td>48.100000</td>\n",
       "      <td>3977.000000</td>\n",
       "      <td>20.000000</td>\n",
       "      <td>8.000000</td>\n",
       "      <td>10.000000</td>\n",
       "      <td>433014.000000</td>\n",
       "      <td>44515.000000</td>\n",
       "      <td>2018.000000</td>\n",
       "      <td>-37.408530</td>\n",
       "      <td>145.526350</td>\n",
       "      <td>21650.000000</td>\n",
       "    </tr>\n",
       "  </tbody>\n",
       "</table>\n",
       "</div>"
      ],
      "text/plain": [
       "              Rooms         Price      Distance      Postcode      Bedroom2  \\\n",
       "count  13580.000000  1.358000e+04  13580.000000  13580.000000  13580.000000   \n",
       "mean       2.937997  1.075684e+06     10.137776   3105.301915      2.914728   \n",
       "std        0.955748  6.393107e+05      5.868725     90.676964      0.965921   \n",
       "min        1.000000  8.500000e+04      0.000000   3000.000000      0.000000   \n",
       "25%        2.000000  6.500000e+05      6.100000   3044.000000      2.000000   \n",
       "50%        3.000000  9.030000e+05      9.200000   3084.000000      3.000000   \n",
       "75%        3.000000  1.330000e+06     13.000000   3148.000000      3.000000   \n",
       "max       10.000000  9.000000e+06     48.100000   3977.000000     20.000000   \n",
       "\n",
       "           Bathroom           Car       Landsize  BuildingArea    YearBuilt  \\\n",
       "count  13580.000000  13518.000000   13580.000000   7130.000000  8205.000000   \n",
       "mean       1.534242      1.610075     558.416127    151.967650  1964.684217   \n",
       "std        0.691712      0.962634    3990.669241    541.014538    37.273762   \n",
       "min        0.000000      0.000000       0.000000      0.000000  1196.000000   \n",
       "25%        1.000000      1.000000     177.000000     93.000000  1940.000000   \n",
       "50%        1.000000      2.000000     440.000000    126.000000  1970.000000   \n",
       "75%        2.000000      2.000000     651.000000    174.000000  1999.000000   \n",
       "max        8.000000     10.000000  433014.000000  44515.000000  2018.000000   \n",
       "\n",
       "          Lattitude    Longtitude  Propertycount  \n",
       "count  13580.000000  13580.000000   13580.000000  \n",
       "mean     -37.809203    144.995216    7454.417378  \n",
       "std        0.079260      0.103916    4378.581772  \n",
       "min      -38.182550    144.431810     249.000000  \n",
       "25%      -37.856822    144.929600    4380.000000  \n",
       "50%      -37.802355    145.000100    6555.000000  \n",
       "75%      -37.756400    145.058305   10331.000000  \n",
       "max      -37.408530    145.526350   21650.000000  "
      ]
     },
     "execution_count": 7,
     "metadata": {},
     "output_type": "execute_result"
    }
   ],
   "source": [
    "df.describe()"
   ]
  },
  {
   "cell_type": "code",
   "execution_count": 8,
   "metadata": {
    "colab": {
     "base_uri": "https://localhost:8080/"
    },
    "executionInfo": {
     "elapsed": 3216,
     "status": "ok",
     "timestamp": 1618802274038,
     "user": {
      "displayName": "Nilesh Lad",
      "photoUrl": "",
      "userId": "15901509142618669299"
     },
     "user_tz": -330
    },
    "id": "I9N2EqEahOeq",
    "outputId": "f937108f-c0a1-4cb8-83a7-cfdd8c58479b"
   },
   "outputs": [
    {
     "data": {
      "text/plain": [
       "0    1480000.0\n",
       "1    1035000.0\n",
       "2    1465000.0\n",
       "3     850000.0\n",
       "4    1600000.0\n",
       "Name: Price, dtype: float64"
      ]
     },
     "execution_count": 8,
     "metadata": {},
     "output_type": "execute_result"
    }
   ],
   "source": [
    "y = df[\"Price\"]\n",
    "y.head()"
   ]
  },
  {
   "cell_type": "code",
   "execution_count": 9,
   "metadata": {
    "colab": {
     "base_uri": "https://localhost:8080/"
    },
    "executionInfo": {
     "elapsed": 3208,
     "status": "ok",
     "timestamp": 1618802274040,
     "user": {
      "displayName": "Nilesh Lad",
      "photoUrl": "",
      "userId": "15901509142618669299"
     },
     "user_tz": -330
    },
    "id": "Ap-TeMVQhOer",
    "outputId": "aa0703fc-9ef1-4523-bda4-e4ef37ecc4fd"
   },
   "outputs": [
    {
     "data": {
      "text/plain": [
       "count    1.358000e+04\n",
       "mean     1.075684e+06\n",
       "std      6.393107e+05\n",
       "min      8.500000e+04\n",
       "20%      6.000000e+05\n",
       "40%      8.000000e+05\n",
       "50%      9.030000e+05\n",
       "60%      1.040000e+06\n",
       "80%      1.450000e+06\n",
       "max      9.000000e+06\n",
       "Name: Price, dtype: float64"
      ]
     },
     "execution_count": 9,
     "metadata": {},
     "output_type": "execute_result"
    }
   ],
   "source": [
    "df.Price.describe([.2, .4, .6, .8])"
   ]
  },
  {
   "cell_type": "code",
   "execution_count": 10,
   "metadata": {
    "colab": {
     "base_uri": "https://localhost:8080/"
    },
    "executionInfo": {
     "elapsed": 3198,
     "status": "ok",
     "timestamp": 1618802274041,
     "user": {
      "displayName": "Nilesh Lad",
      "photoUrl": "",
      "userId": "15901509142618669299"
     },
     "user_tz": -330
    },
    "id": "IQYRiCbkhOes",
    "outputId": "2122fbfc-d362-4045-a113-34fa4b2ae882"
   },
   "outputs": [
    {
     "data": {
      "text/plain": [
       "(Index(['Price', 'Distance', 'Postcode', 'Bedroom2', 'Bathroom', 'Car',\n",
       "        'Landsize', 'BuildingArea', 'YearBuilt', 'Lattitude', 'Longtitude',\n",
       "        'Propertycount'],\n",
       "       dtype='object'),\n",
       " 12)"
      ]
     },
     "execution_count": 10,
     "metadata": {},
     "output_type": "execute_result"
    }
   ],
   "source": [
    "# df_num as numeric_features.\n",
    "numeric_features = df.select_dtypes(['int', 'float']).columns\n",
    "numeric_features , len(numeric_features)"
   ]
  },
  {
   "cell_type": "code",
   "execution_count": 11,
   "metadata": {
    "colab": {
     "base_uri": "https://localhost:8080/"
    },
    "executionInfo": {
     "elapsed": 3191,
     "status": "ok",
     "timestamp": 1618802274045,
     "user": {
      "displayName": "Nilesh Lad",
      "photoUrl": "",
      "userId": "15901509142618669299"
     },
     "user_tz": -330
    },
    "id": "vodR-ao3hOet",
    "outputId": "6a8febb8-3cfb-4467-83f8-5eff289d8ff4"
   },
   "outputs": [
    {
     "data": {
      "text/plain": [
       "(Index(['Suburb', 'Address', 'Type', 'Method', 'SellerG', 'Date', 'CouncilArea',\n",
       "        'Regionname'],\n",
       "       dtype='object'),\n",
       " 8)"
      ]
     },
     "execution_count": 11,
     "metadata": {},
     "output_type": "execute_result"
    }
   ],
   "source": [
    "# df_cat as categorical_features.\n",
    "categorical_features = df.select_dtypes('object').columns\n",
    "categorical_features, len(categorical_features)"
   ]
  },
  {
   "cell_type": "code",
   "execution_count": 12,
   "metadata": {
    "colab": {
     "base_uri": "https://localhost:8080/"
    },
    "executionInfo": {
     "elapsed": 3181,
     "status": "ok",
     "timestamp": 1618802274046,
     "user": {
      "displayName": "Nilesh Lad",
      "photoUrl": "",
      "userId": "15901509142618669299"
     },
     "user_tz": -330
    },
    "id": "TI19SaCmhOev",
    "outputId": "7a45bfcd-c5e7-40fb-a96b-6783fdc1f8e6"
   },
   "outputs": [
    {
     "name": "stdout",
     "output_type": "stream",
     "text": [
      "Number of `Numerical` Features are: 12\n",
      "Number of `Categorical` Features are: 8\n",
      "`Total Number` of features are : 20\n"
     ]
    }
   ],
   "source": [
    "print(\"Number of `Numerical` Features are:\", len(numeric_features) )\n",
    "print(\"Number of `Categorical` Features are:\", len(categorical_features) )\n",
    "print(\"`Total Number` of features are :\", len(numeric_features | categorical_features) )"
   ]
  },
  {
   "cell_type": "code",
   "execution_count": 13,
   "metadata": {
    "colab": {
     "base_uri": "https://localhost:8080/"
    },
    "executionInfo": {
     "elapsed": 3175,
     "status": "ok",
     "timestamp": 1618802274050,
     "user": {
      "displayName": "Nilesh Lad",
      "photoUrl": "",
      "userId": "15901509142618669299"
     },
     "user_tz": -330
    },
    "id": "UO3ipIpjhOez",
    "outputId": "44a8edab-5cc6-4e1d-e4e1-c20cf9a05efc"
   },
   "outputs": [
    {
     "data": {
      "text/plain": [
       "BuildingArea     6450\n",
       "YearBuilt        5375\n",
       "CouncilArea      1369\n",
       "Car                62\n",
       "Propertycount       0\n",
       "Date                0\n",
       "Address             0\n",
       "Rooms               0\n",
       "Type                0\n",
       "Price               0\n",
       "Method              0\n",
       "SellerG             0\n",
       "Bedroom2            0\n",
       "Distance            0\n",
       "Postcode            0\n",
       "Regionname          0\n",
       "Bathroom            0\n",
       "Landsize            0\n",
       "Lattitude           0\n",
       "Longtitude          0\n",
       "Suburb              0\n",
       "dtype: int64"
      ]
     },
     "execution_count": 13,
     "metadata": {},
     "output_type": "execute_result"
    }
   ],
   "source": [
    "df.isna().sum().sort_values(ascending=False)"
   ]
  },
  {
   "cell_type": "code",
   "execution_count": 14,
   "metadata": {
    "colab": {
     "base_uri": "https://localhost:8080/",
     "height": 390
    },
    "executionInfo": {
     "elapsed": 3161,
     "status": "ok",
     "timestamp": 1618802274051,
     "user": {
      "displayName": "Nilesh Lad",
      "photoUrl": "",
      "userId": "15901509142618669299"
     },
     "user_tz": -330
    },
    "id": "rtmzPYaAhOe1",
    "outputId": "45d3f0e4-dc43-47e7-cc65-07aacd2eac9e"
   },
   "outputs": [
    {
     "data": {
      "text/html": [
       "<div>\n",
       "<style scoped>\n",
       "    .dataframe tbody tr th:only-of-type {\n",
       "        vertical-align: middle;\n",
       "    }\n",
       "\n",
       "    .dataframe tbody tr th {\n",
       "        vertical-align: top;\n",
       "    }\n",
       "\n",
       "    .dataframe thead th {\n",
       "        text-align: right;\n",
       "    }\n",
       "</style>\n",
       "<table border=\"1\" class=\"dataframe\">\n",
       "  <thead>\n",
       "    <tr style=\"text-align: right;\">\n",
       "      <th></th>\n",
       "      <th>BuildingArea</th>\n",
       "      <th>YearBuilt</th>\n",
       "      <th>CouncilArea</th>\n",
       "      <th>Car</th>\n",
       "    </tr>\n",
       "  </thead>\n",
       "  <tbody>\n",
       "    <tr>\n",
       "      <th>count</th>\n",
       "      <td>7130.000000</td>\n",
       "      <td>8205.000000</td>\n",
       "      <td>12211</td>\n",
       "      <td>13518.000000</td>\n",
       "    </tr>\n",
       "    <tr>\n",
       "      <th>unique</th>\n",
       "      <td>NaN</td>\n",
       "      <td>NaN</td>\n",
       "      <td>33</td>\n",
       "      <td>NaN</td>\n",
       "    </tr>\n",
       "    <tr>\n",
       "      <th>top</th>\n",
       "      <td>NaN</td>\n",
       "      <td>NaN</td>\n",
       "      <td>Moreland</td>\n",
       "      <td>NaN</td>\n",
       "    </tr>\n",
       "    <tr>\n",
       "      <th>freq</th>\n",
       "      <td>NaN</td>\n",
       "      <td>NaN</td>\n",
       "      <td>1163</td>\n",
       "      <td>NaN</td>\n",
       "    </tr>\n",
       "    <tr>\n",
       "      <th>mean</th>\n",
       "      <td>151.967650</td>\n",
       "      <td>1964.684217</td>\n",
       "      <td>NaN</td>\n",
       "      <td>1.610075</td>\n",
       "    </tr>\n",
       "    <tr>\n",
       "      <th>std</th>\n",
       "      <td>541.014538</td>\n",
       "      <td>37.273762</td>\n",
       "      <td>NaN</td>\n",
       "      <td>0.962634</td>\n",
       "    </tr>\n",
       "    <tr>\n",
       "      <th>min</th>\n",
       "      <td>0.000000</td>\n",
       "      <td>1196.000000</td>\n",
       "      <td>NaN</td>\n",
       "      <td>0.000000</td>\n",
       "    </tr>\n",
       "    <tr>\n",
       "      <th>25%</th>\n",
       "      <td>93.000000</td>\n",
       "      <td>1940.000000</td>\n",
       "      <td>NaN</td>\n",
       "      <td>1.000000</td>\n",
       "    </tr>\n",
       "    <tr>\n",
       "      <th>50%</th>\n",
       "      <td>126.000000</td>\n",
       "      <td>1970.000000</td>\n",
       "      <td>NaN</td>\n",
       "      <td>2.000000</td>\n",
       "    </tr>\n",
       "    <tr>\n",
       "      <th>75%</th>\n",
       "      <td>174.000000</td>\n",
       "      <td>1999.000000</td>\n",
       "      <td>NaN</td>\n",
       "      <td>2.000000</td>\n",
       "    </tr>\n",
       "    <tr>\n",
       "      <th>max</th>\n",
       "      <td>44515.000000</td>\n",
       "      <td>2018.000000</td>\n",
       "      <td>NaN</td>\n",
       "      <td>10.000000</td>\n",
       "    </tr>\n",
       "  </tbody>\n",
       "</table>\n",
       "</div>"
      ],
      "text/plain": [
       "        BuildingArea    YearBuilt CouncilArea           Car\n",
       "count    7130.000000  8205.000000       12211  13518.000000\n",
       "unique           NaN          NaN          33           NaN\n",
       "top              NaN          NaN    Moreland           NaN\n",
       "freq             NaN          NaN        1163           NaN\n",
       "mean      151.967650  1964.684217         NaN      1.610075\n",
       "std       541.014538    37.273762         NaN      0.962634\n",
       "min         0.000000  1196.000000         NaN      0.000000\n",
       "25%        93.000000  1940.000000         NaN      1.000000\n",
       "50%       126.000000  1970.000000         NaN      2.000000\n",
       "75%       174.000000  1999.000000         NaN      2.000000\n",
       "max     44515.000000  2018.000000         NaN     10.000000"
      ]
     },
     "execution_count": 14,
     "metadata": {},
     "output_type": "execute_result"
    }
   ],
   "source": [
    "df[[\"BuildingArea\",\"YearBuilt\",\"CouncilArea\",\"Car\"]].describe(include=\"all\")"
   ]
  },
  {
   "cell_type": "code",
   "execution_count": 15,
   "metadata": {
    "executionInfo": {
     "elapsed": 3149,
     "status": "ok",
     "timestamp": 1618802274052,
     "user": {
      "displayName": "Nilesh Lad",
      "photoUrl": "",
      "userId": "15901509142618669299"
     },
     "user_tz": -330
    },
    "id": "eoXr6tSahOe3"
   },
   "outputs": [],
   "source": [
    "df[\"CouncilArea\"] = df[\"CouncilArea\"].fillna(\"Moreland\")\n",
    "df[\"YearBuilt\"] = df[\"YearBuilt\"].fillna(df[\"YearBuilt\"].mode()[0])\n",
    "df[\"BuildingArea\"] = df[\"BuildingArea\"].fillna(df[\"BuildingArea\"].mean())\n",
    "df[\"Car\"] = df[\"Car\"].fillna(df[\"Car\"].median())"
   ]
  },
  {
   "cell_type": "code",
   "execution_count": 16,
   "metadata": {
    "colab": {
     "base_uri": "https://localhost:8080/"
    },
    "executionInfo": {
     "elapsed": 3142,
     "status": "ok",
     "timestamp": 1618802274053,
     "user": {
      "displayName": "Nilesh Lad",
      "photoUrl": "",
      "userId": "15901509142618669299"
     },
     "user_tz": -330
    },
    "id": "An2hBvW9hOfc",
    "outputId": "8e067c2c-a63d-42e1-c21e-fefcb34fec12"
   },
   "outputs": [
    {
     "data": {
      "text/plain": [
       "count    13580.000000\n",
       "mean       151.967650\n",
       "std        392.002962\n",
       "min          0.000000\n",
       "25%        122.000000\n",
       "50%        151.967650\n",
       "75%        151.967650\n",
       "max      44515.000000\n",
       "Name: BuildingArea, dtype: float64"
      ]
     },
     "execution_count": 16,
     "metadata": {},
     "output_type": "execute_result"
    }
   ],
   "source": [
    "df.BuildingArea.describe()"
   ]
  },
  {
   "cell_type": "code",
   "execution_count": 17,
   "metadata": {
    "colab": {
     "base_uri": "https://localhost:8080/"
    },
    "executionInfo": {
     "elapsed": 3136,
     "status": "ok",
     "timestamp": 1618802274060,
     "user": {
      "displayName": "Nilesh Lad",
      "photoUrl": "",
      "userId": "15901509142618669299"
     },
     "user_tz": -330
    },
    "id": "kuwKwZwbhOfd",
    "outputId": "858c488f-8d03-4a13-81ae-c6033be5b02f"
   },
   "outputs": [
    {
     "data": {
      "text/plain": [
       "Suburb           False\n",
       "Address          False\n",
       "Rooms            False\n",
       "Type             False\n",
       "Price            False\n",
       "Method           False\n",
       "SellerG          False\n",
       "Date             False\n",
       "Distance         False\n",
       "Postcode         False\n",
       "Bedroom2         False\n",
       "Bathroom         False\n",
       "Car              False\n",
       "Landsize         False\n",
       "BuildingArea     False\n",
       "YearBuilt        False\n",
       "CouncilArea      False\n",
       "Lattitude        False\n",
       "Longtitude       False\n",
       "Regionname       False\n",
       "Propertycount    False\n",
       "dtype: bool"
      ]
     },
     "execution_count": 17,
     "metadata": {},
     "output_type": "execute_result"
    }
   ],
   "source": [
    "# Now, is there any missing values are there?\n",
    "df.isna().any()"
   ]
  },
  {
   "cell_type": "code",
   "execution_count": 18,
   "metadata": {
    "executionInfo": {
     "elapsed": 3122,
     "status": "ok",
     "timestamp": 1618802274062,
     "user": {
      "displayName": "Nilesh Lad",
      "photoUrl": "",
      "userId": "15901509142618669299"
     },
     "user_tz": -330
    },
    "id": "qkUtxA0ehOfd"
   },
   "outputs": [],
   "source": [
    "# Categorical Features"
   ]
  },
  {
   "cell_type": "code",
   "execution_count": 19,
   "metadata": {
    "colab": {
     "base_uri": "https://localhost:8080/"
    },
    "executionInfo": {
     "elapsed": 3110,
     "status": "ok",
     "timestamp": 1618802274062,
     "user": {
      "displayName": "Nilesh Lad",
      "photoUrl": "",
      "userId": "15901509142618669299"
     },
     "user_tz": -330
    },
    "id": "ikj0pWrchOff",
    "outputId": "4d2fc0ab-b3bf-408b-9662-89ca253ba5bd"
   },
   "outputs": [
    {
     "name": "stdout",
     "output_type": "stream",
     "text": [
      "Total Records : 13580\n",
      "Total Unique Records of Suburb = 314\n",
      "Total Unique Records of Address = 13378\n",
      "Total Unique Records of Type = 3\n",
      "Total Unique Records of Method = 5\n",
      "Total Unique Records of SellerG = 268\n",
      "Total Unique Records of Date = 58\n",
      "Total Unique Records of CouncilArea = 33\n",
      "Total Unique Records of Regionname = 8\n"
     ]
    }
   ],
   "source": [
    "print(\"Total Records :\", len(df) )\n",
    "for col in categorical_features:\n",
    "    print(\"Total Unique Records of \"+ col + \" =\",  len(df[col].unique()))"
   ]
  },
  {
   "cell_type": "code",
   "execution_count": 20,
   "metadata": {
    "executionInfo": {
     "elapsed": 3100,
     "status": "ok",
     "timestamp": 1618802274063,
     "user": {
      "displayName": "Nilesh Lad",
      "photoUrl": "",
      "userId": "15901509142618669299"
     },
     "user_tz": -330
    },
    "id": "WCFWvAxvhOfg"
   },
   "outputs": [],
   "source": [
    "# Removing columns which has huge number of unique values"
   ]
  },
  {
   "cell_type": "code",
   "execution_count": 21,
   "metadata": {
    "executionInfo": {
     "elapsed": 3103,
     "status": "ok",
     "timestamp": 1618802274073,
     "user": {
      "displayName": "Nilesh Lad",
      "photoUrl": "",
      "userId": "15901509142618669299"
     },
     "user_tz": -330
    },
    "id": "YhHbHdlshOfg"
   },
   "outputs": [],
   "source": [
    "categorical_features = categorical_features.drop(\"Address\")\n",
    "categorical_features = categorical_features.drop(\"SellerG\")\n",
    "categorical_features = categorical_features.drop(\"Suburb\")"
   ]
  },
  {
   "cell_type": "code",
   "execution_count": 22,
   "metadata": {
    "colab": {
     "base_uri": "https://localhost:8080/"
    },
    "executionInfo": {
     "elapsed": 3097,
     "status": "ok",
     "timestamp": 1618802274077,
     "user": {
      "displayName": "Nilesh Lad",
      "photoUrl": "",
      "userId": "15901509142618669299"
     },
     "user_tz": -330
    },
    "id": "sncpMuyVhOfi",
    "outputId": "cbd775c3-6e2f-4916-d3ee-6ac29e72a8de"
   },
   "outputs": [
    {
     "name": "stdout",
     "output_type": "stream",
     "text": [
      "Total Records : 13580\n",
      "Total Unique Records of Type = 3\n",
      "Total Unique Records of Method = 5\n",
      "Total Unique Records of Date = 58\n",
      "Total Unique Records of CouncilArea = 33\n",
      "Total Unique Records of Regionname = 8\n"
     ]
    }
   ],
   "source": [
    "# Let's see again the number of unique records\n",
    "print(\"Total Records :\", len(df) )\n",
    "for col in categorical_features:\n",
    "    print(\"Total Unique Records of \"+ col + \" =\",  len(df[col].unique()))"
   ]
  },
  {
   "cell_type": "code",
   "execution_count": 23,
   "metadata": {
    "colab": {
     "base_uri": "https://localhost:8080/",
     "height": 452
    },
    "executionInfo": {
     "elapsed": 3711,
     "status": "ok",
     "timestamp": 1618802274704,
     "user": {
      "displayName": "Nilesh Lad",
      "photoUrl": "",
      "userId": "15901509142618669299"
     },
     "user_tz": -330
    },
    "id": "9oSvs1k1hOfj",
    "outputId": "772b33b7-d324-4763-aa81-c2b7cf8c7b6d"
   },
   "outputs": [
    {
     "data": {
      "text/html": [
       "<div>\n",
       "<style scoped>\n",
       "    .dataframe tbody tr th:only-of-type {\n",
       "        vertical-align: middle;\n",
       "    }\n",
       "\n",
       "    .dataframe tbody tr th {\n",
       "        vertical-align: top;\n",
       "    }\n",
       "\n",
       "    .dataframe thead th {\n",
       "        text-align: right;\n",
       "    }\n",
       "</style>\n",
       "<table border=\"1\" class=\"dataframe\">\n",
       "  <thead>\n",
       "    <tr style=\"text-align: right;\">\n",
       "      <th></th>\n",
       "      <th>Price</th>\n",
       "      <th>Distance</th>\n",
       "      <th>Postcode</th>\n",
       "      <th>Bedroom2</th>\n",
       "      <th>Bathroom</th>\n",
       "      <th>Car</th>\n",
       "      <th>Landsize</th>\n",
       "      <th>BuildingArea</th>\n",
       "      <th>YearBuilt</th>\n",
       "      <th>Lattitude</th>\n",
       "      <th>Longtitude</th>\n",
       "      <th>Propertycount</th>\n",
       "    </tr>\n",
       "  </thead>\n",
       "  <tbody>\n",
       "    <tr>\n",
       "      <th>Price</th>\n",
       "      <td>1.000000</td>\n",
       "      <td>-0.162522</td>\n",
       "      <td>0.107867</td>\n",
       "      <td>0.475951</td>\n",
       "      <td>0.467038</td>\n",
       "      <td>0.239109</td>\n",
       "      <td>0.037507</td>\n",
       "      <td>0.069570</td>\n",
       "      <td>-0.259387</td>\n",
       "      <td>-0.212934</td>\n",
       "      <td>0.203656</td>\n",
       "      <td>-0.042153</td>\n",
       "    </tr>\n",
       "    <tr>\n",
       "      <th>Distance</th>\n",
       "      <td>-0.162522</td>\n",
       "      <td>1.000000</td>\n",
       "      <td>0.431514</td>\n",
       "      <td>0.295927</td>\n",
       "      <td>0.127155</td>\n",
       "      <td>0.260596</td>\n",
       "      <td>0.025004</td>\n",
       "      <td>0.073990</td>\n",
       "      <td>0.194815</td>\n",
       "      <td>-0.130723</td>\n",
       "      <td>0.239425</td>\n",
       "      <td>-0.054910</td>\n",
       "    </tr>\n",
       "    <tr>\n",
       "      <th>Postcode</th>\n",
       "      <td>0.107867</td>\n",
       "      <td>0.431514</td>\n",
       "      <td>1.000000</td>\n",
       "      <td>0.060584</td>\n",
       "      <td>0.113664</td>\n",
       "      <td>0.050514</td>\n",
       "      <td>0.024558</td>\n",
       "      <td>0.040714</td>\n",
       "      <td>0.025400</td>\n",
       "      <td>-0.406104</td>\n",
       "      <td>0.445357</td>\n",
       "      <td>0.062304</td>\n",
       "    </tr>\n",
       "    <tr>\n",
       "      <th>Bedroom2</th>\n",
       "      <td>0.475951</td>\n",
       "      <td>0.295927</td>\n",
       "      <td>0.060584</td>\n",
       "      <td>1.000000</td>\n",
       "      <td>0.584685</td>\n",
       "      <td>0.403867</td>\n",
       "      <td>0.025646</td>\n",
       "      <td>0.089102</td>\n",
       "      <td>-0.041331</td>\n",
       "      <td>0.015925</td>\n",
       "      <td>0.102238</td>\n",
       "      <td>-0.081350</td>\n",
       "    </tr>\n",
       "    <tr>\n",
       "      <th>Bathroom</th>\n",
       "      <td>0.467038</td>\n",
       "      <td>0.127155</td>\n",
       "      <td>0.113664</td>\n",
       "      <td>0.584685</td>\n",
       "      <td>1.000000</td>\n",
       "      <td>0.321014</td>\n",
       "      <td>0.037130</td>\n",
       "      <td>0.084462</td>\n",
       "      <td>0.113957</td>\n",
       "      <td>-0.070594</td>\n",
       "      <td>0.118971</td>\n",
       "      <td>-0.052201</td>\n",
       "    </tr>\n",
       "    <tr>\n",
       "      <th>Car</th>\n",
       "      <td>0.239109</td>\n",
       "      <td>0.260596</td>\n",
       "      <td>0.050514</td>\n",
       "      <td>0.403867</td>\n",
       "      <td>0.321014</td>\n",
       "      <td>1.000000</td>\n",
       "      <td>0.026780</td>\n",
       "      <td>0.068276</td>\n",
       "      <td>0.078696</td>\n",
       "      <td>-0.002023</td>\n",
       "      <td>0.062929</td>\n",
       "      <td>-0.024344</td>\n",
       "    </tr>\n",
       "    <tr>\n",
       "      <th>Landsize</th>\n",
       "      <td>0.037507</td>\n",
       "      <td>0.025004</td>\n",
       "      <td>0.024558</td>\n",
       "      <td>0.025646</td>\n",
       "      <td>0.037130</td>\n",
       "      <td>0.026780</td>\n",
       "      <td>1.000000</td>\n",
       "      <td>0.094659</td>\n",
       "      <td>0.008806</td>\n",
       "      <td>0.009695</td>\n",
       "      <td>0.010833</td>\n",
       "      <td>-0.006854</td>\n",
       "    </tr>\n",
       "    <tr>\n",
       "      <th>BuildingArea</th>\n",
       "      <td>0.069570</td>\n",
       "      <td>0.073990</td>\n",
       "      <td>0.040714</td>\n",
       "      <td>0.089102</td>\n",
       "      <td>0.084462</td>\n",
       "      <td>0.068276</td>\n",
       "      <td>0.094659</td>\n",
       "      <td>1.000000</td>\n",
       "      <td>0.005178</td>\n",
       "      <td>0.031799</td>\n",
       "      <td>-0.017441</td>\n",
       "      <td>-0.020736</td>\n",
       "    </tr>\n",
       "    <tr>\n",
       "      <th>YearBuilt</th>\n",
       "      <td>-0.259387</td>\n",
       "      <td>0.194815</td>\n",
       "      <td>0.025400</td>\n",
       "      <td>-0.041331</td>\n",
       "      <td>0.113957</td>\n",
       "      <td>0.078696</td>\n",
       "      <td>0.008806</td>\n",
       "      <td>0.005178</td>\n",
       "      <td>1.000000</td>\n",
       "      <td>0.046718</td>\n",
       "      <td>-0.000515</td>\n",
       "      <td>0.004421</td>\n",
       "    </tr>\n",
       "    <tr>\n",
       "      <th>Lattitude</th>\n",
       "      <td>-0.212934</td>\n",
       "      <td>-0.130723</td>\n",
       "      <td>-0.406104</td>\n",
       "      <td>0.015925</td>\n",
       "      <td>-0.070594</td>\n",
       "      <td>-0.002023</td>\n",
       "      <td>0.009695</td>\n",
       "      <td>0.031799</td>\n",
       "      <td>0.046718</td>\n",
       "      <td>1.000000</td>\n",
       "      <td>-0.357634</td>\n",
       "      <td>0.047086</td>\n",
       "    </tr>\n",
       "    <tr>\n",
       "      <th>Longtitude</th>\n",
       "      <td>0.203656</td>\n",
       "      <td>0.239425</td>\n",
       "      <td>0.445357</td>\n",
       "      <td>0.102238</td>\n",
       "      <td>0.118971</td>\n",
       "      <td>0.062929</td>\n",
       "      <td>0.010833</td>\n",
       "      <td>-0.017441</td>\n",
       "      <td>-0.000515</td>\n",
       "      <td>-0.357634</td>\n",
       "      <td>1.000000</td>\n",
       "      <td>0.065988</td>\n",
       "    </tr>\n",
       "    <tr>\n",
       "      <th>Propertycount</th>\n",
       "      <td>-0.042153</td>\n",
       "      <td>-0.054910</td>\n",
       "      <td>0.062304</td>\n",
       "      <td>-0.081350</td>\n",
       "      <td>-0.052201</td>\n",
       "      <td>-0.024344</td>\n",
       "      <td>-0.006854</td>\n",
       "      <td>-0.020736</td>\n",
       "      <td>0.004421</td>\n",
       "      <td>0.047086</td>\n",
       "      <td>0.065988</td>\n",
       "      <td>1.000000</td>\n",
       "    </tr>\n",
       "  </tbody>\n",
       "</table>\n",
       "</div>"
      ],
      "text/plain": [
       "                  Price  Distance  Postcode  Bedroom2  Bathroom       Car  \\\n",
       "Price          1.000000 -0.162522  0.107867  0.475951  0.467038  0.239109   \n",
       "Distance      -0.162522  1.000000  0.431514  0.295927  0.127155  0.260596   \n",
       "Postcode       0.107867  0.431514  1.000000  0.060584  0.113664  0.050514   \n",
       "Bedroom2       0.475951  0.295927  0.060584  1.000000  0.584685  0.403867   \n",
       "Bathroom       0.467038  0.127155  0.113664  0.584685  1.000000  0.321014   \n",
       "Car            0.239109  0.260596  0.050514  0.403867  0.321014  1.000000   \n",
       "Landsize       0.037507  0.025004  0.024558  0.025646  0.037130  0.026780   \n",
       "BuildingArea   0.069570  0.073990  0.040714  0.089102  0.084462  0.068276   \n",
       "YearBuilt     -0.259387  0.194815  0.025400 -0.041331  0.113957  0.078696   \n",
       "Lattitude     -0.212934 -0.130723 -0.406104  0.015925 -0.070594 -0.002023   \n",
       "Longtitude     0.203656  0.239425  0.445357  0.102238  0.118971  0.062929   \n",
       "Propertycount -0.042153 -0.054910  0.062304 -0.081350 -0.052201 -0.024344   \n",
       "\n",
       "               Landsize  BuildingArea  YearBuilt  Lattitude  Longtitude  \\\n",
       "Price          0.037507      0.069570  -0.259387  -0.212934    0.203656   \n",
       "Distance       0.025004      0.073990   0.194815  -0.130723    0.239425   \n",
       "Postcode       0.024558      0.040714   0.025400  -0.406104    0.445357   \n",
       "Bedroom2       0.025646      0.089102  -0.041331   0.015925    0.102238   \n",
       "Bathroom       0.037130      0.084462   0.113957  -0.070594    0.118971   \n",
       "Car            0.026780      0.068276   0.078696  -0.002023    0.062929   \n",
       "Landsize       1.000000      0.094659   0.008806   0.009695    0.010833   \n",
       "BuildingArea   0.094659      1.000000   0.005178   0.031799   -0.017441   \n",
       "YearBuilt      0.008806      0.005178   1.000000   0.046718   -0.000515   \n",
       "Lattitude      0.009695      0.031799   0.046718   1.000000   -0.357634   \n",
       "Longtitude     0.010833     -0.017441  -0.000515  -0.357634    1.000000   \n",
       "Propertycount -0.006854     -0.020736   0.004421   0.047086    0.065988   \n",
       "\n",
       "               Propertycount  \n",
       "Price              -0.042153  \n",
       "Distance           -0.054910  \n",
       "Postcode            0.062304  \n",
       "Bedroom2           -0.081350  \n",
       "Bathroom           -0.052201  \n",
       "Car                -0.024344  \n",
       "Landsize           -0.006854  \n",
       "BuildingArea       -0.020736  \n",
       "YearBuilt           0.004421  \n",
       "Lattitude           0.047086  \n",
       "Longtitude          0.065988  \n",
       "Propertycount       1.000000  "
      ]
     },
     "execution_count": 23,
     "metadata": {},
     "output_type": "execute_result"
    }
   ],
   "source": [
    "corr = df[numeric_features].corr()\n",
    "corr"
   ]
  },
  {
   "cell_type": "code",
   "execution_count": 24,
   "metadata": {
    "colab": {
     "base_uri": "https://localhost:8080/"
    },
    "executionInfo": {
     "elapsed": 3707,
     "status": "ok",
     "timestamp": 1618802274714,
     "user": {
      "displayName": "Nilesh Lad",
      "photoUrl": "",
      "userId": "15901509142618669299"
     },
     "user_tz": -330
    },
    "id": "Snlj229ahOfk",
    "outputId": "6e15940e-8735-4a23-ee2b-0fb48be85c4d"
   },
   "outputs": [
    {
     "data": {
      "text/plain": [
       "Type  Method  Date        CouncilArea  Regionname                \n",
       "h     S       23/09/2017  Moreland     Western Metropolitan          43\n",
       "              3/09/2017   Moreland     Northern Metropolitan         40\n",
       "              23/09/2017  Moreland     Northern Metropolitan         39\n",
       "              16/09/2017  Moreland     Northern Metropolitan         38\n",
       "              19/08/2017  Moreland     Northern Metropolitan         36\n",
       "                                                                     ..\n",
       "t     S       19/11/2016  Maribyrnong  Western Metropolitan           1\n",
       "                          Hobsons Bay  Western Metropolitan           1\n",
       "              19/08/2017  Moreland     South-Eastern Metropolitan     1\n",
       "              18/06/2016  Yarra        Northern Metropolitan          1\n",
       "h     PI      1/07/2017   Banyule      Eastern Metropolitan           1\n",
       "Length: 5229, dtype: int64"
      ]
     },
     "execution_count": 24,
     "metadata": {},
     "output_type": "execute_result"
    }
   ],
   "source": [
    "df[categorical_features].value_counts()"
   ]
  },
  {
   "cell_type": "code",
   "execution_count": 25,
   "metadata": {
    "colab": {
     "base_uri": "https://localhost:8080/"
    },
    "executionInfo": {
     "elapsed": 3697,
     "status": "ok",
     "timestamp": 1618802274715,
     "user": {
      "displayName": "Nilesh Lad",
      "photoUrl": "",
      "userId": "15901509142618669299"
     },
     "user_tz": -330
    },
    "id": "nUdlmJGhhOfm",
    "outputId": "0a9af0e4-482b-4bf2-c4b3-83dd51104f5d"
   },
   "outputs": [
    {
     "data": {
      "text/plain": [
       "['Type', 'Method', 'CouncilArea', 'Regionname']"
      ]
     },
     "execution_count": 25,
     "metadata": {},
     "output_type": "execute_result"
    }
   ],
   "source": [
    "# Here we need to define feature_columns the we convert to number in the below cell\n",
    "\n",
    "categorical_features = [\"Type\",\"Method\",\"CouncilArea\", \"Regionname\"]\n",
    "categorical_features"
   ]
  },
  {
   "cell_type": "code",
   "execution_count": 26,
   "metadata": {
    "executionInfo": {
     "elapsed": 3688,
     "status": "ok",
     "timestamp": 1618802274716,
     "user": {
      "displayName": "Nilesh Lad",
      "photoUrl": "",
      "userId": "15901509142618669299"
     },
     "user_tz": -330
    },
    "id": "El2EWKCEhOfn"
   },
   "outputs": [],
   "source": [
    "#  Import LabelEncoder from sklearn.preproccessing module\n",
    "from sklearn.preprocessing import LabelEncoder"
   ]
  },
  {
   "cell_type": "code",
   "execution_count": 27,
   "metadata": {
    "executionInfo": {
     "elapsed": 3682,
     "status": "ok",
     "timestamp": 1618802274718,
     "user": {
      "displayName": "Nilesh Lad",
      "photoUrl": "",
      "userId": "15901509142618669299"
     },
     "user_tz": -330
    },
    "id": "wdiFrO8phOfo"
   },
   "outputs": [],
   "source": [
    "# Encoding ...\n",
    "for column in categorical_features:\n",
    "    le = LabelEncoder()\n",
    "    df[column] = le.fit_transform(df[column])"
   ]
  },
  {
   "cell_type": "code",
   "execution_count": 28,
   "metadata": {
    "executionInfo": {
     "elapsed": 3674,
     "status": "ok",
     "timestamp": 1618802274719,
     "user": {
      "displayName": "Nilesh Lad",
      "photoUrl": "",
      "userId": "15901509142618669299"
     },
     "user_tz": -330
    },
    "id": "wGygE61xhOfo"
   },
   "outputs": [],
   "source": [
    "# Creating Training Feature to train the model to predict the beter accuracy."
   ]
  },
  {
   "cell_type": "code",
   "execution_count": 29,
   "metadata": {
    "colab": {
     "base_uri": "https://localhost:8080/"
    },
    "executionInfo": {
     "elapsed": 3668,
     "status": "ok",
     "timestamp": 1618802274720,
     "user": {
      "displayName": "Nilesh Lad",
      "photoUrl": "",
      "userId": "15901509142618669299"
     },
     "user_tz": -330
    },
    "id": "5rVE30xkhOfq",
    "outputId": "ac29285d-42a6-436d-b19c-0767bc79de65"
   },
   "outputs": [
    {
     "data": {
      "text/plain": [
       "['Distance',\n",
       " 'Postcode',\n",
       " 'Bedroom2',\n",
       " 'Bathroom',\n",
       " 'Car',\n",
       " 'Landsize',\n",
       " 'BuildingArea',\n",
       " 'YearBuilt',\n",
       " 'Lattitude',\n",
       " 'Longtitude',\n",
       " 'Propertycount',\n",
       " 'Type',\n",
       " 'Method',\n",
       " 'CouncilArea',\n",
       " 'Regionname']"
      ]
     },
     "execution_count": 29,
     "metadata": {},
     "output_type": "execute_result"
    }
   ],
   "source": [
    "df_final = list(numeric_features) + list(categorical_features)\n",
    "\n",
    "# Remove 'Price' Feature from list\n",
    "df_final.remove(\"Price\")\n",
    "\n",
    "# show the final list\n",
    "df_final"
   ]
  },
  {
   "cell_type": "code",
   "execution_count": 30,
   "metadata": {
    "executionInfo": {
     "elapsed": 3657,
     "status": "ok",
     "timestamp": 1618802274721,
     "user": {
      "displayName": "Nilesh Lad",
      "photoUrl": "",
      "userId": "15901509142618669299"
     },
     "user_tz": -330
    },
    "id": "wuxB6x0ChOfq"
   },
   "outputs": [],
   "source": [
    "from sklearn.preprocessing import MinMaxScaler"
   ]
  },
  {
   "cell_type": "code",
   "execution_count": 31,
   "metadata": {
    "colab": {
     "base_uri": "https://localhost:8080/"
    },
    "executionInfo": {
     "elapsed": 3646,
     "status": "ok",
     "timestamp": 1618802274722,
     "user": {
      "displayName": "Nilesh Lad",
      "photoUrl": "",
      "userId": "15901509142618669299"
     },
     "user_tz": -330
    },
    "id": "I-si3j03hOfr",
    "outputId": "d8e9249a-81f7-477f-ac95-0299a9b663ed"
   },
   "outputs": [
    {
     "data": {
      "text/plain": [
       "MinMaxScaler()"
      ]
     },
     "execution_count": 31,
     "metadata": {},
     "output_type": "execute_result"
    }
   ],
   "source": [
    "mm = MinMaxScaler()\n",
    "mm.fit(df[df_final])"
   ]
  },
  {
   "cell_type": "code",
   "execution_count": 32,
   "metadata": {
    "executionInfo": {
     "elapsed": 3635,
     "status": "ok",
     "timestamp": 1618802274722,
     "user": {
      "displayName": "Nilesh Lad",
      "photoUrl": "",
      "userId": "15901509142618669299"
     },
     "user_tz": -330
    },
    "id": "e29KIDdEhOfr"
   },
   "outputs": [],
   "source": [
    "X = mm.transform(df[df_final])\n",
    "y = df[\"Price\"] "
   ]
  },
  {
   "cell_type": "code",
   "execution_count": 33,
   "metadata": {
    "executionInfo": {
     "elapsed": 3629,
     "status": "ok",
     "timestamp": 1618802274724,
     "user": {
      "displayName": "Nilesh Lad",
      "photoUrl": "",
      "userId": "15901509142618669299"
     },
     "user_tz": -330
    },
    "id": "SQx_Z_fBhOft"
   },
   "outputs": [],
   "source": [
    "from sklearn.model_selection import train_test_split\n",
    "from sklearn.linear_model import LinearRegression"
   ]
  },
  {
   "cell_type": "code",
   "execution_count": 34,
   "metadata": {
    "executionInfo": {
     "elapsed": 3622,
     "status": "ok",
     "timestamp": 1618802274724,
     "user": {
      "displayName": "Nilesh Lad",
      "photoUrl": "",
      "userId": "15901509142618669299"
     },
     "user_tz": -330
    },
    "id": "dc1_zyfYhOfu"
   },
   "outputs": [],
   "source": [
    "X_train,X_test,y_train,y_test = train_test_split(X,y,test_size=0.3,random_state=1)"
   ]
  },
  {
   "cell_type": "code",
   "execution_count": 35,
   "metadata": {
    "colab": {
     "base_uri": "https://localhost:8080/"
    },
    "executionInfo": {
     "elapsed": 3616,
     "status": "ok",
     "timestamp": 1618802274725,
     "user": {
      "displayName": "Nilesh Lad",
      "photoUrl": "",
      "userId": "15901509142618669299"
     },
     "user_tz": -330
    },
    "id": "jJhM-zMvhOfv",
    "outputId": "8082aa5d-dd9c-4998-aaa0-c46da718e96a"
   },
   "outputs": [
    {
     "name": "stdout",
     "output_type": "stream",
     "text": [
      "Total size:  13580\n",
      "Train size - Training:  (9506, 15) (9506,)\n",
      "Test size - Testing:  (4074, 15) (4074,)\n"
     ]
    }
   ],
   "source": [
    "print(\"Total size: \", df.shape[0])\n",
    "print(\"Train size - Training: \", X_train.shape,y_train.shape)\n",
    "print(\"Test size - Testing: \",X_test.shape,y_test.shape)"
   ]
  },
  {
   "cell_type": "code",
   "execution_count": 36,
   "metadata": {
    "colab": {
     "base_uri": "https://localhost:8080/"
    },
    "executionInfo": {
     "elapsed": 3606,
     "status": "ok",
     "timestamp": 1618802274726,
     "user": {
      "displayName": "Nilesh Lad",
      "photoUrl": "",
      "userId": "15901509142618669299"
     },
     "user_tz": -330
    },
    "id": "z9vjxvRChOfw",
    "outputId": "bf1a0848-4b6c-495b-ca70-b3810d74c940"
   },
   "outputs": [
    {
     "data": {
      "text/plain": [
       "LinearRegression()"
      ]
     },
     "execution_count": 36,
     "metadata": {},
     "output_type": "execute_result"
    }
   ],
   "source": [
    "lin = LinearRegression()\n",
    "lin.fit(X_train,y_train)"
   ]
  },
  {
   "cell_type": "code",
   "execution_count": 37,
   "metadata": {
    "colab": {
     "base_uri": "https://localhost:8080/"
    },
    "executionInfo": {
     "elapsed": 3594,
     "status": "ok",
     "timestamp": 1618802274727,
     "user": {
      "displayName": "Nilesh Lad",
      "photoUrl": "",
      "userId": "15901509142618669299"
     },
     "user_tz": -330
    },
    "id": "iSBjDckChOfy",
    "outputId": "6a36f954-eaec-4397-972d-0ff688ab8c05"
   },
   "outputs": [
    {
     "data": {
      "text/plain": [
       "0.5743214870733868"
      ]
     },
     "execution_count": 37,
     "metadata": {},
     "output_type": "execute_result"
    }
   ],
   "source": [
    "lin.score(X_train,y_train)"
   ]
  },
  {
   "cell_type": "code",
   "execution_count": 38,
   "metadata": {
    "colab": {
     "base_uri": "https://localhost:8080/"
    },
    "executionInfo": {
     "elapsed": 3585,
     "status": "ok",
     "timestamp": 1618802274728,
     "user": {
      "displayName": "Nilesh Lad",
      "photoUrl": "",
      "userId": "15901509142618669299"
     },
     "user_tz": -330
    },
    "id": "LGuLy9_ChOfz",
    "outputId": "8e3ef7ba-a845-4b15-9595-b67ef6f810a1"
   },
   "outputs": [
    {
     "data": {
      "text/plain": [
       "0.23913150206003198"
      ]
     },
     "execution_count": 38,
     "metadata": {},
     "output_type": "execute_result"
    }
   ],
   "source": [
    "lin.score(X_test,y_test)"
   ]
  },
  {
   "cell_type": "code",
   "execution_count": 39,
   "metadata": {
    "colab": {
     "base_uri": "https://localhost:8080/"
    },
    "executionInfo": {
     "elapsed": 3574,
     "status": "ok",
     "timestamp": 1618802274731,
     "user": {
      "displayName": "Nilesh Lad",
      "photoUrl": "",
      "userId": "15901509142618669299"
     },
     "user_tz": -330
    },
    "id": "l_q1kGzBhOf0",
    "outputId": "85301c2d-cdf6-4a5d-f032-94a882c1b4aa"
   },
   "outputs": [
    {
     "data": {
      "text/plain": [
       "array([-2.31974886e+06,  8.89831924e+05,  2.73448835e+06,  1.86347744e+06,\n",
       "        4.67401357e+05,  6.93618417e+06,  2.44181704e+07, -2.36761510e+06,\n",
       "       -7.26714244e+05,  1.28612559e+06, -2.24350258e+04, -4.60097800e+05,\n",
       "       -3.50194564e+04, -1.04507160e+05,  2.37181788e+05])"
      ]
     },
     "execution_count": 39,
     "metadata": {},
     "output_type": "execute_result"
    }
   ],
   "source": [
    "lin.coef_"
   ]
  },
  {
   "cell_type": "code",
   "execution_count": 40,
   "metadata": {
    "executionInfo": {
     "elapsed": 3565,
     "status": "ok",
     "timestamp": 1618802274732,
     "user": {
      "displayName": "Nilesh Lad",
      "photoUrl": "",
      "userId": "15901509142618669299"
     },
     "user_tz": -330
    },
    "id": "56aOhljqhOf2"
   },
   "outputs": [],
   "source": [
    "from sklearn.linear_model import Lasso\n",
    "from sklearn.linear_model import Ridge"
   ]
  },
  {
   "cell_type": "code",
   "execution_count": 41,
   "metadata": {
    "colab": {
     "base_uri": "https://localhost:8080/"
    },
    "executionInfo": {
     "elapsed": 3548,
     "status": "ok",
     "timestamp": 1618802274733,
     "user": {
      "displayName": "Nilesh Lad",
      "photoUrl": "",
      "userId": "15901509142618669299"
     },
     "user_tz": -330
    },
    "id": "ZAhiaFbqhOf2",
    "outputId": "b5d15c63-5d12-42e5-93ca-4043d4f482b4"
   },
   "outputs": [
    {
     "data": {
      "text/plain": [
       "array([-2143722.52697709,   788642.15088761,  1843127.2350897 ,\n",
       "        1944030.36532638,   506910.04665315,    77691.43763646,\n",
       "         145749.62663453, -1335777.79703345,  -747702.89567847,\n",
       "        1228377.69493915,   -21931.44168819,  -542150.77902578,\n",
       "         -36465.27531515,  -109407.81451845,   232783.62553401])"
      ]
     },
     "execution_count": 41,
     "metadata": {},
     "output_type": "execute_result"
    }
   ],
   "source": [
    "l2 = Ridge(8)\n",
    "l2.fit(X_train,y_train)\n",
    "l2.coef_"
   ]
  },
  {
   "cell_type": "code",
   "execution_count": 42,
   "metadata": {
    "colab": {
     "base_uri": "https://localhost:8080/"
    },
    "executionInfo": {
     "elapsed": 3537,
     "status": "ok",
     "timestamp": 1618802274734,
     "user": {
      "displayName": "Nilesh Lad",
      "photoUrl": "",
      "userId": "15901509142618669299"
     },
     "user_tz": -330
    },
    "id": "AwA6D54-hOf4",
    "outputId": "c035abb6-88a0-4a80-c3d5-7d2dc7f7cb9c"
   },
   "outputs": [
    {
     "data": {
      "text/plain": [
       "0.5592572910330759"
      ]
     },
     "execution_count": 42,
     "metadata": {},
     "output_type": "execute_result"
    }
   ],
   "source": [
    "l2.score(X_train,y_train)"
   ]
  },
  {
   "cell_type": "code",
   "execution_count": 43,
   "metadata": {
    "colab": {
     "base_uri": "https://localhost:8080/"
    },
    "executionInfo": {
     "elapsed": 3528,
     "status": "ok",
     "timestamp": 1618802274735,
     "user": {
      "displayName": "Nilesh Lad",
      "photoUrl": "",
      "userId": "15901509142618669299"
     },
     "user_tz": -330
    },
    "id": "HRzGsJ9WhOf6",
    "outputId": "2d479a54-8528-453a-fada-4d5a0d79b62f"
   },
   "outputs": [
    {
     "data": {
      "text/plain": [
       "0.576459542649615"
      ]
     },
     "execution_count": 43,
     "metadata": {},
     "output_type": "execute_result"
    }
   ],
   "source": [
    "l2.score(X_test,y_test)"
   ]
  },
  {
   "cell_type": "code",
   "execution_count": 44,
   "metadata": {
    "colab": {
     "base_uri": "https://localhost:8080/"
    },
    "executionInfo": {
     "elapsed": 3517,
     "status": "ok",
     "timestamp": 1618802274736,
     "user": {
      "displayName": "Nilesh Lad",
      "photoUrl": "",
      "userId": "15901509142618669299"
     },
     "user_tz": -330
    },
    "id": "TbSoyQ4fhOf7",
    "outputId": "28ac628a-9a2a-4903-da03-1f2683dbf0ad"
   },
   "outputs": [
    {
     "data": {
      "text/plain": [
       "array([-1133572.12300231,        0.        ,        0.        ,\n",
       "        1804485.90349924,        0.        ,        0.        ,\n",
       "              0.        ,       -0.        ,  -613399.32448905,\n",
       "         514012.86281579,       -0.        ,  -598884.12604434,\n",
       "             -0.        ,   -51723.65605802,    86945.91917015])"
      ]
     },
     "execution_count": 44,
     "metadata": {},
     "output_type": "execute_result"
    }
   ],
   "source": [
    "l1 = Lasso(8000)\n",
    "l1.fit(X_train,y_train)\n",
    "l1.coef_"
   ]
  },
  {
   "cell_type": "code",
   "execution_count": 45,
   "metadata": {
    "colab": {
     "base_uri": "https://localhost:8080/"
    },
    "executionInfo": {
     "elapsed": 3507,
     "status": "ok",
     "timestamp": 1618802274737,
     "user": {
      "displayName": "Nilesh Lad",
      "photoUrl": "",
      "userId": "15901509142618669299"
     },
     "user_tz": -330
    },
    "id": "FU4d49YqhOf7",
    "outputId": "5d70a0d4-5474-48e9-bb86-27d2a362030a"
   },
   "outputs": [
    {
     "data": {
      "text/plain": [
       "0.4429754865278813"
      ]
     },
     "execution_count": 45,
     "metadata": {},
     "output_type": "execute_result"
    }
   ],
   "source": [
    "l1.score(X_train,y_train)"
   ]
  },
  {
   "cell_type": "code",
   "execution_count": 46,
   "metadata": {
    "colab": {
     "base_uri": "https://localhost:8080/"
    },
    "executionInfo": {
     "elapsed": 3496,
     "status": "ok",
     "timestamp": 1618802274738,
     "user": {
      "displayName": "Nilesh Lad",
      "photoUrl": "",
      "userId": "15901509142618669299"
     },
     "user_tz": -330
    },
    "id": "X7_uGUIfhOf9",
    "outputId": "5b759972-8d96-40e2-9782-87df37c3d04e"
   },
   "outputs": [
    {
     "data": {
      "text/plain": [
       "0.45355733056703673"
      ]
     },
     "execution_count": 46,
     "metadata": {},
     "output_type": "execute_result"
    }
   ],
   "source": [
    "l1.score(X_test,y_test)"
   ]
  },
  {
   "cell_type": "code",
   "execution_count": 47,
   "metadata": {
    "colab": {
     "base_uri": "https://localhost:8080/"
    },
    "executionInfo": {
     "elapsed": 3863,
     "status": "ok",
     "timestamp": 1618802275126,
     "user": {
      "displayName": "Nilesh Lad",
      "photoUrl": "",
      "userId": "15901509142618669299"
     },
     "user_tz": -330
    },
    "id": "d3CFD70vhOf9",
    "outputId": "a6038872-d09e-4e08-86eb-7d0c993b4e9d"
   },
   "outputs": [
    {
     "name": "stdout",
     "output_type": "stream",
     "text": [
      "0 : 0.2391315020600352\n",
      "1 : 0.5857597575922602\n",
      "2 : 0.5842260229026733\n",
      "3 : 0.5829821720490658\n",
      "4 : 0.581749274697752\n",
      "5 : 0.5804789443425697\n",
      "6 : 0.5791691831207932\n",
      "7 : 0.5778269129574203\n",
      "8 : 0.576459542649615\n",
      "9 : 0.5750731688731356\n",
      "10 : 0.5736724445023029\n",
      "11 : 0.5722608340509792\n",
      "12 : 0.5708409078189363\n",
      "13 : 0.5694145877669613\n",
      "14 : 0.5679833337326055\n",
      "15 : 0.5665482786936317\n",
      "16 : 0.565110325044559\n",
      "17 : 0.5636702123821702\n",
      "18 : 0.5622285649212753\n",
      "19 : 0.5607859245082436\n",
      "20 : 0.5593427735121206\n",
      "21 : 0.5578995506265516\n",
      "22 : 0.556456661719997\n",
      "23 : 0.5550144872366374\n",
      "24 : 0.5535733872028662\n",
      "25 : 0.5521337045796824\n",
      "26 : 0.5506957674802274\n",
      "27 : 0.5492598906162398\n",
      "28 : 0.5478263762277504\n",
      "29 : 0.5463955146732087\n"
     ]
    }
   ],
   "source": [
    "for i in range(30):\n",
    "    l2 = Ridge(alpha=i)\n",
    "    l2.fit(X_train,y_train)\n",
    "    print(i,\":\",l2.score(X_test,y_test))"
   ]
  },
  {
   "cell_type": "code",
   "execution_count": 48,
   "metadata": {
    "colab": {
     "base_uri": "https://localhost:8080/"
    },
    "executionInfo": {
     "elapsed": 3641,
     "status": "ok",
     "timestamp": 1618802275127,
     "user": {
      "displayName": "Nilesh Lad",
      "photoUrl": "",
      "userId": "15901509142618669299"
     },
     "user_tz": -330
    },
    "id": "AcZfKXIVhOf-",
    "outputId": "dc5f605e-3254-42eb-a053-69ef4b391cca"
   },
   "outputs": [
    {
     "name": "stdout",
     "output_type": "stream",
     "text": [
      "100 : 0.5858393347941275\n",
      "150 : 0.5832229677625209\n",
      "200 : 0.583205385711894\n",
      "250 : 0.5831625299914709\n",
      "300 : 0.5830944006012516\n",
      "350 : 0.5830009975412361\n",
      "400 : 0.5828823208114247\n",
      "450 : 0.5827383704118168\n",
      "500 : 0.582569146342413\n",
      "550 : 0.5823746487441492\n",
      "600 : 0.5821548775091346\n",
      "650 : 0.5819098326104044\n",
      "700 : 0.5816395140479582\n",
      "750 : 0.5813439218217964\n"
     ]
    }
   ],
   "source": [
    "for i in range(100,800,50):\n",
    "    l1 = Lasso(alpha=i)\n",
    "    l1.fit(X_train,y_train)\n",
    "    print(i,\":\",l1.score(X_test,y_test))"
   ]
  },
  {
   "cell_type": "code",
   "execution_count": 49,
   "metadata": {
    "executionInfo": {
     "elapsed": 3621,
     "status": "ok",
     "timestamp": 1618802275128,
     "user": {
      "displayName": "Nilesh Lad",
      "photoUrl": "",
      "userId": "15901509142618669299"
     },
     "user_tz": -330
    },
    "id": "ojVfkOZEhOf_"
   },
   "outputs": [],
   "source": [
    "from sklearn.model_selection import cross_val_score"
   ]
  },
  {
   "cell_type": "code",
   "execution_count": 50,
   "metadata": {
    "executionInfo": {
     "elapsed": 3614,
     "status": "ok",
     "timestamp": 1618802275131,
     "user": {
      "displayName": "Nilesh Lad",
      "photoUrl": "",
      "userId": "15901509142618669299"
     },
     "user_tz": -330
    },
    "id": "GwFcxi3HhOgA"
   },
   "outputs": [],
   "source": [
    "l2_final = Ridge(1)\n",
    "l1_final = Lasso(100)"
   ]
  },
  {
   "cell_type": "code",
   "execution_count": 51,
   "metadata": {
    "executionInfo": {
     "elapsed": 3532,
     "status": "ok",
     "timestamp": 1618802275135,
     "user": {
      "displayName": "Nilesh Lad",
      "photoUrl": "",
      "userId": "15901509142618669299"
     },
     "user_tz": -330
    },
    "id": "_HuB2ynVhOgA"
   },
   "outputs": [],
   "source": [
    "l2_cross = cross_val_score(l2_final,X,y,cv=4)"
   ]
  },
  {
   "cell_type": "code",
   "execution_count": 52,
   "metadata": {
    "colab": {
     "base_uri": "https://localhost:8080/"
    },
    "executionInfo": {
     "elapsed": 3520,
     "status": "ok",
     "timestamp": 1618802275137,
     "user": {
      "displayName": "Nilesh Lad",
      "photoUrl": "",
      "userId": "15901509142618669299"
     },
     "user_tz": -330
    },
    "id": "9BmzhB0nhOgB",
    "outputId": "83e5b03e-edfd-4eb6-9fb3-a73d55b9a10a"
   },
   "outputs": [
    {
     "data": {
      "text/plain": [
       "array([0.60612736, 0.56034392, 0.56284609, 0.47008509])"
      ]
     },
     "execution_count": 52,
     "metadata": {},
     "output_type": "execute_result"
    }
   ],
   "source": [
    "l2_cross"
   ]
  },
  {
   "cell_type": "code",
   "execution_count": 53,
   "metadata": {
    "colab": {
     "base_uri": "https://localhost:8080/"
    },
    "executionInfo": {
     "elapsed": 3506,
     "status": "ok",
     "timestamp": 1618802275138,
     "user": {
      "displayName": "Nilesh Lad",
      "photoUrl": "",
      "userId": "15901509142618669299"
     },
     "user_tz": -330
    },
    "id": "py7NwrsfhOgr",
    "outputId": "6dd4aa1a-2074-4346-8a63-f31799a5f48f"
   },
   "outputs": [
    {
     "data": {
      "text/plain": [
       "0.5498506148379206"
      ]
     },
     "execution_count": 53,
     "metadata": {},
     "output_type": "execute_result"
    }
   ],
   "source": [
    "np.mean(l2_cross)"
   ]
  },
  {
   "cell_type": "code",
   "execution_count": 54,
   "metadata": {
    "executionInfo": {
     "elapsed": 3432,
     "status": "ok",
     "timestamp": 1618802275139,
     "user": {
      "displayName": "Nilesh Lad",
      "photoUrl": "",
      "userId": "15901509142618669299"
     },
     "user_tz": -330
    },
    "id": "3S5ybTW-hOgs"
   },
   "outputs": [],
   "source": [
    "l1_cross = cross_val_score(l1_final,X,y,cv=4)"
   ]
  },
  {
   "cell_type": "code",
   "execution_count": 55,
   "metadata": {
    "colab": {
     "base_uri": "https://localhost:8080/"
    },
    "executionInfo": {
     "elapsed": 3426,
     "status": "ok",
     "timestamp": 1618802275146,
     "user": {
      "displayName": "Nilesh Lad",
      "photoUrl": "",
      "userId": "15901509142618669299"
     },
     "user_tz": -330
    },
    "id": "shxNm2DrhOgt",
    "outputId": "948874d9-4148-4323-dc58-00fc68e20330"
   },
   "outputs": [
    {
     "data": {
      "text/plain": [
       "array([0.60679687, 0.56127426, 0.56241941, 0.46843822])"
      ]
     },
     "execution_count": 55,
     "metadata": {},
     "output_type": "execute_result"
    }
   ],
   "source": [
    "l1_cross"
   ]
  },
  {
   "cell_type": "code",
   "execution_count": 56,
   "metadata": {
    "colab": {
     "base_uri": "https://localhost:8080/"
    },
    "executionInfo": {
     "elapsed": 3419,
     "status": "ok",
     "timestamp": 1618802275154,
     "user": {
      "displayName": "Nilesh Lad",
      "photoUrl": "",
      "userId": "15901509142618669299"
     },
     "user_tz": -330
    },
    "id": "ZXlf35xQhOgv",
    "outputId": "7c2ee086-98a0-4624-a88e-0508c8a7c196"
   },
   "outputs": [
    {
     "data": {
      "text/plain": [
       "0.5497321917423881"
      ]
     },
     "execution_count": 56,
     "metadata": {},
     "output_type": "execute_result"
    }
   ],
   "source": [
    "np.mean(l1_cross)"
   ]
  },
  {
   "cell_type": "code",
   "execution_count": null,
   "metadata": {
    "executionInfo": {
     "elapsed": 4173,
     "status": "ok",
     "timestamp": 1618802275920,
     "user": {
      "displayName": "Nilesh Lad",
      "photoUrl": "",
      "userId": "15901509142618669299"
     },
     "user_tz": -330
    },
    "id": "dOdYgmkghOgx"
   },
   "outputs": [],
   "source": []
  },
  {
   "cell_type": "code",
   "execution_count": null,
   "metadata": {},
   "outputs": [],
   "source": []
  }
 ],
 "metadata": {
  "colab": {
   "collapsed_sections": [],
   "name": "Regualization.ipynb",
   "provenance": []
  },
  "kernelspec": {
   "display_name": "Python 3",
   "language": "python",
   "name": "python3"
  },
  "language_info": {
   "codemirror_mode": {
    "name": "ipython",
    "version": 3
   },
   "file_extension": ".py",
   "mimetype": "text/x-python",
   "name": "python",
   "nbconvert_exporter": "python",
   "pygments_lexer": "ipython3",
   "version": "3.8.5"
  }
 },
 "nbformat": 4,
 "nbformat_minor": 1
}
