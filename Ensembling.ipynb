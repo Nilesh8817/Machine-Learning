{
 "cells": [
  {
   "cell_type": "code",
   "execution_count": 1,
   "metadata": {
    "executionInfo": {
     "elapsed": 1481,
     "status": "ok",
     "timestamp": 1618803954360,
     "user": {
      "displayName": "Nilesh Lad",
      "photoUrl": "",
      "userId": "15901509142618669299"
     },
     "user_tz": -330
    },
    "id": "xm7cFAO1OBxX"
   },
   "outputs": [],
   "source": [
    "import numpy as np\n",
    "import pandas as pd\n",
    "import matplotlib.pyplot as plt\n",
    "import seaborn as sns\n",
    "\n",
    "from sklearn.linear_model import LogisticRegression\n",
    "from sklearn.tree import DecisionTreeClassifier\n",
    "from sklearn.model_selection import train_test_split\n",
    "from sklearn.metrics import classification_report\n",
    "\n",
    "import warnings\n",
    "warnings.filterwarnings('ignore')"
   ]
  },
  {
   "cell_type": "code",
   "execution_count": 2,
   "metadata": {
    "executionInfo": {
     "elapsed": 2128,
     "status": "ok",
     "timestamp": 1618803955047,
     "user": {
      "displayName": "Nilesh Lad",
      "photoUrl": "",
      "userId": "15901509142618669299"
     },
     "user_tz": -330
    },
    "id": "l5r6a-5MOBxx"
   },
   "outputs": [],
   "source": [
    "df = pd.read_csv(\"diabetes.csv\")"
   ]
  },
  {
   "cell_type": "code",
   "execution_count": 3,
   "metadata": {
    "colab": {
     "base_uri": "https://localhost:8080/",
     "height": 204
    },
    "executionInfo": {
     "elapsed": 2130,
     "status": "ok",
     "timestamp": 1618803955062,
     "user": {
      "displayName": "Nilesh Lad",
      "photoUrl": "",
      "userId": "15901509142618669299"
     },
     "user_tz": -330
    },
    "id": "SS5RgWSTOBxz",
    "outputId": "a3ecc6cb-fd9e-49d4-c099-035cb1a21842"
   },
   "outputs": [
    {
     "data": {
      "text/html": [
       "<div>\n",
       "<style scoped>\n",
       "    .dataframe tbody tr th:only-of-type {\n",
       "        vertical-align: middle;\n",
       "    }\n",
       "\n",
       "    .dataframe tbody tr th {\n",
       "        vertical-align: top;\n",
       "    }\n",
       "\n",
       "    .dataframe thead th {\n",
       "        text-align: right;\n",
       "    }\n",
       "</style>\n",
       "<table border=\"1\" class=\"dataframe\">\n",
       "  <thead>\n",
       "    <tr style=\"text-align: right;\">\n",
       "      <th></th>\n",
       "      <th>Pregnancies</th>\n",
       "      <th>Glucose</th>\n",
       "      <th>BloodPressure</th>\n",
       "      <th>SkinThickness</th>\n",
       "      <th>Insulin</th>\n",
       "      <th>BMI</th>\n",
       "      <th>DiabetesPedigreeFunction</th>\n",
       "      <th>Age</th>\n",
       "      <th>Outcome</th>\n",
       "    </tr>\n",
       "  </thead>\n",
       "  <tbody>\n",
       "    <tr>\n",
       "      <th>0</th>\n",
       "      <td>6</td>\n",
       "      <td>148</td>\n",
       "      <td>72</td>\n",
       "      <td>35</td>\n",
       "      <td>0</td>\n",
       "      <td>33.6</td>\n",
       "      <td>0.627</td>\n",
       "      <td>50</td>\n",
       "      <td>1</td>\n",
       "    </tr>\n",
       "    <tr>\n",
       "      <th>1</th>\n",
       "      <td>1</td>\n",
       "      <td>85</td>\n",
       "      <td>66</td>\n",
       "      <td>29</td>\n",
       "      <td>0</td>\n",
       "      <td>26.6</td>\n",
       "      <td>0.351</td>\n",
       "      <td>31</td>\n",
       "      <td>0</td>\n",
       "    </tr>\n",
       "    <tr>\n",
       "      <th>2</th>\n",
       "      <td>8</td>\n",
       "      <td>183</td>\n",
       "      <td>64</td>\n",
       "      <td>0</td>\n",
       "      <td>0</td>\n",
       "      <td>23.3</td>\n",
       "      <td>0.672</td>\n",
       "      <td>32</td>\n",
       "      <td>1</td>\n",
       "    </tr>\n",
       "    <tr>\n",
       "      <th>3</th>\n",
       "      <td>1</td>\n",
       "      <td>89</td>\n",
       "      <td>66</td>\n",
       "      <td>23</td>\n",
       "      <td>94</td>\n",
       "      <td>28.1</td>\n",
       "      <td>0.167</td>\n",
       "      <td>21</td>\n",
       "      <td>0</td>\n",
       "    </tr>\n",
       "    <tr>\n",
       "      <th>4</th>\n",
       "      <td>0</td>\n",
       "      <td>137</td>\n",
       "      <td>40</td>\n",
       "      <td>35</td>\n",
       "      <td>168</td>\n",
       "      <td>43.1</td>\n",
       "      <td>2.288</td>\n",
       "      <td>33</td>\n",
       "      <td>1</td>\n",
       "    </tr>\n",
       "  </tbody>\n",
       "</table>\n",
       "</div>"
      ],
      "text/plain": [
       "   Pregnancies  Glucose  BloodPressure  SkinThickness  Insulin   BMI  \\\n",
       "0            6      148             72             35        0  33.6   \n",
       "1            1       85             66             29        0  26.6   \n",
       "2            8      183             64              0        0  23.3   \n",
       "3            1       89             66             23       94  28.1   \n",
       "4            0      137             40             35      168  43.1   \n",
       "\n",
       "   DiabetesPedigreeFunction  Age  Outcome  \n",
       "0                     0.627   50        1  \n",
       "1                     0.351   31        0  \n",
       "2                     0.672   32        1  \n",
       "3                     0.167   21        0  \n",
       "4                     2.288   33        1  "
      ]
     },
     "execution_count": 3,
     "metadata": {},
     "output_type": "execute_result"
    }
   ],
   "source": [
    "df.head()"
   ]
  },
  {
   "cell_type": "code",
   "execution_count": 4,
   "metadata": {
    "colab": {
     "base_uri": "https://localhost:8080/"
    },
    "executionInfo": {
     "elapsed": 2094,
     "status": "ok",
     "timestamp": 1618803955063,
     "user": {
      "displayName": "Nilesh Lad",
      "photoUrl": "",
      "userId": "15901509142618669299"
     },
     "user_tz": -330
    },
    "id": "Xn-whuAdOBx1",
    "outputId": "af605a8c-0657-447e-f646-f69fa351a507"
   },
   "outputs": [
    {
     "name": "stdout",
     "output_type": "stream",
     "text": [
      "<class 'pandas.core.frame.DataFrame'>\n",
      "RangeIndex: 768 entries, 0 to 767\n",
      "Data columns (total 9 columns):\n",
      " #   Column                    Non-Null Count  Dtype  \n",
      "---  ------                    --------------  -----  \n",
      " 0   Pregnancies               768 non-null    int64  \n",
      " 1   Glucose                   768 non-null    int64  \n",
      " 2   BloodPressure             768 non-null    int64  \n",
      " 3   SkinThickness             768 non-null    int64  \n",
      " 4   Insulin                   768 non-null    int64  \n",
      " 5   BMI                       768 non-null    float64\n",
      " 6   DiabetesPedigreeFunction  768 non-null    float64\n",
      " 7   Age                       768 non-null    int64  \n",
      " 8   Outcome                   768 non-null    int64  \n",
      "dtypes: float64(2), int64(7)\n",
      "memory usage: 54.1 KB\n"
     ]
    }
   ],
   "source": [
    "df.info()"
   ]
  },
  {
   "cell_type": "code",
   "execution_count": 5,
   "metadata": {
    "colab": {
     "base_uri": "https://localhost:8080/"
    },
    "executionInfo": {
     "elapsed": 2026,
     "status": "ok",
     "timestamp": 1618803955065,
     "user": {
      "displayName": "Nilesh Lad",
      "photoUrl": "",
      "userId": "15901509142618669299"
     },
     "user_tz": -330
    },
    "id": "Y9l3AwaZOBx3",
    "outputId": "3df4903f-d3e5-43c3-b233-444378040063"
   },
   "outputs": [
    {
     "data": {
      "text/plain": [
       "Pregnancies                 0\n",
       "Glucose                     0\n",
       "BloodPressure               0\n",
       "SkinThickness               0\n",
       "Insulin                     0\n",
       "BMI                         0\n",
       "DiabetesPedigreeFunction    0\n",
       "Age                         0\n",
       "Outcome                     0\n",
       "dtype: int64"
      ]
     },
     "execution_count": 5,
     "metadata": {},
     "output_type": "execute_result"
    }
   ],
   "source": [
    "df.isnull().sum()"
   ]
  },
  {
   "cell_type": "code",
   "execution_count": 6,
   "metadata": {
    "colab": {
     "base_uri": "https://localhost:8080/",
     "height": 297
    },
    "executionInfo": {
     "elapsed": 2010,
     "status": "ok",
     "timestamp": 1618803955066,
     "user": {
      "displayName": "Nilesh Lad",
      "photoUrl": "",
      "userId": "15901509142618669299"
     },
     "user_tz": -330
    },
    "id": "kzumDzRXOBx5",
    "outputId": "8220acbc-954b-4b48-d352-17af03d725eb"
   },
   "outputs": [
    {
     "data": {
      "text/html": [
       "<div>\n",
       "<style scoped>\n",
       "    .dataframe tbody tr th:only-of-type {\n",
       "        vertical-align: middle;\n",
       "    }\n",
       "\n",
       "    .dataframe tbody tr th {\n",
       "        vertical-align: top;\n",
       "    }\n",
       "\n",
       "    .dataframe thead th {\n",
       "        text-align: right;\n",
       "    }\n",
       "</style>\n",
       "<table border=\"1\" class=\"dataframe\">\n",
       "  <thead>\n",
       "    <tr style=\"text-align: right;\">\n",
       "      <th></th>\n",
       "      <th>Pregnancies</th>\n",
       "      <th>Glucose</th>\n",
       "      <th>BloodPressure</th>\n",
       "      <th>SkinThickness</th>\n",
       "      <th>Insulin</th>\n",
       "      <th>BMI</th>\n",
       "      <th>DiabetesPedigreeFunction</th>\n",
       "      <th>Age</th>\n",
       "      <th>Outcome</th>\n",
       "    </tr>\n",
       "  </thead>\n",
       "  <tbody>\n",
       "    <tr>\n",
       "      <th>count</th>\n",
       "      <td>768.000000</td>\n",
       "      <td>768.000000</td>\n",
       "      <td>768.000000</td>\n",
       "      <td>768.000000</td>\n",
       "      <td>768.000000</td>\n",
       "      <td>768.000000</td>\n",
       "      <td>768.000000</td>\n",
       "      <td>768.000000</td>\n",
       "      <td>768.000000</td>\n",
       "    </tr>\n",
       "    <tr>\n",
       "      <th>mean</th>\n",
       "      <td>3.845052</td>\n",
       "      <td>120.894531</td>\n",
       "      <td>69.105469</td>\n",
       "      <td>20.536458</td>\n",
       "      <td>79.799479</td>\n",
       "      <td>31.992578</td>\n",
       "      <td>0.471876</td>\n",
       "      <td>33.240885</td>\n",
       "      <td>0.348958</td>\n",
       "    </tr>\n",
       "    <tr>\n",
       "      <th>std</th>\n",
       "      <td>3.369578</td>\n",
       "      <td>31.972618</td>\n",
       "      <td>19.355807</td>\n",
       "      <td>15.952218</td>\n",
       "      <td>115.244002</td>\n",
       "      <td>7.884160</td>\n",
       "      <td>0.331329</td>\n",
       "      <td>11.760232</td>\n",
       "      <td>0.476951</td>\n",
       "    </tr>\n",
       "    <tr>\n",
       "      <th>min</th>\n",
       "      <td>0.000000</td>\n",
       "      <td>0.000000</td>\n",
       "      <td>0.000000</td>\n",
       "      <td>0.000000</td>\n",
       "      <td>0.000000</td>\n",
       "      <td>0.000000</td>\n",
       "      <td>0.078000</td>\n",
       "      <td>21.000000</td>\n",
       "      <td>0.000000</td>\n",
       "    </tr>\n",
       "    <tr>\n",
       "      <th>25%</th>\n",
       "      <td>1.000000</td>\n",
       "      <td>99.000000</td>\n",
       "      <td>62.000000</td>\n",
       "      <td>0.000000</td>\n",
       "      <td>0.000000</td>\n",
       "      <td>27.300000</td>\n",
       "      <td>0.243750</td>\n",
       "      <td>24.000000</td>\n",
       "      <td>0.000000</td>\n",
       "    </tr>\n",
       "    <tr>\n",
       "      <th>50%</th>\n",
       "      <td>3.000000</td>\n",
       "      <td>117.000000</td>\n",
       "      <td>72.000000</td>\n",
       "      <td>23.000000</td>\n",
       "      <td>30.500000</td>\n",
       "      <td>32.000000</td>\n",
       "      <td>0.372500</td>\n",
       "      <td>29.000000</td>\n",
       "      <td>0.000000</td>\n",
       "    </tr>\n",
       "    <tr>\n",
       "      <th>75%</th>\n",
       "      <td>6.000000</td>\n",
       "      <td>140.250000</td>\n",
       "      <td>80.000000</td>\n",
       "      <td>32.000000</td>\n",
       "      <td>127.250000</td>\n",
       "      <td>36.600000</td>\n",
       "      <td>0.626250</td>\n",
       "      <td>41.000000</td>\n",
       "      <td>1.000000</td>\n",
       "    </tr>\n",
       "    <tr>\n",
       "      <th>max</th>\n",
       "      <td>17.000000</td>\n",
       "      <td>199.000000</td>\n",
       "      <td>122.000000</td>\n",
       "      <td>99.000000</td>\n",
       "      <td>846.000000</td>\n",
       "      <td>67.100000</td>\n",
       "      <td>2.420000</td>\n",
       "      <td>81.000000</td>\n",
       "      <td>1.000000</td>\n",
       "    </tr>\n",
       "  </tbody>\n",
       "</table>\n",
       "</div>"
      ],
      "text/plain": [
       "       Pregnancies     Glucose  BloodPressure  SkinThickness     Insulin  \\\n",
       "count   768.000000  768.000000     768.000000     768.000000  768.000000   \n",
       "mean      3.845052  120.894531      69.105469      20.536458   79.799479   \n",
       "std       3.369578   31.972618      19.355807      15.952218  115.244002   \n",
       "min       0.000000    0.000000       0.000000       0.000000    0.000000   \n",
       "25%       1.000000   99.000000      62.000000       0.000000    0.000000   \n",
       "50%       3.000000  117.000000      72.000000      23.000000   30.500000   \n",
       "75%       6.000000  140.250000      80.000000      32.000000  127.250000   \n",
       "max      17.000000  199.000000     122.000000      99.000000  846.000000   \n",
       "\n",
       "              BMI  DiabetesPedigreeFunction         Age     Outcome  \n",
       "count  768.000000                768.000000  768.000000  768.000000  \n",
       "mean    31.992578                  0.471876   33.240885    0.348958  \n",
       "std      7.884160                  0.331329   11.760232    0.476951  \n",
       "min      0.000000                  0.078000   21.000000    0.000000  \n",
       "25%     27.300000                  0.243750   24.000000    0.000000  \n",
       "50%     32.000000                  0.372500   29.000000    0.000000  \n",
       "75%     36.600000                  0.626250   41.000000    1.000000  \n",
       "max     67.100000                  2.420000   81.000000    1.000000  "
      ]
     },
     "execution_count": 6,
     "metadata": {},
     "output_type": "execute_result"
    }
   ],
   "source": [
    "df.describe()"
   ]
  },
  {
   "cell_type": "code",
   "execution_count": 7,
   "metadata": {
    "colab": {
     "base_uri": "https://localhost:8080/"
    },
    "executionInfo": {
     "elapsed": 1996,
     "status": "ok",
     "timestamp": 1618803955067,
     "user": {
      "displayName": "Nilesh Lad",
      "photoUrl": "",
      "userId": "15901509142618669299"
     },
     "user_tz": -330
    },
    "id": "slo_RBarOBx6",
    "outputId": "9a8e1684-75f6-4bd7-f95c-7ec19a5f394a"
   },
   "outputs": [
    {
     "data": {
      "text/plain": [
       "122     1\n",
       "40      1\n",
       "38      1\n",
       "24      1\n",
       "114     1\n",
       "61      1\n",
       "102     1\n",
       "95      1\n",
       "104     2\n",
       "108     2\n",
       "55      2\n",
       "46      2\n",
       "30      2\n",
       "106     3\n",
       "100     3\n",
       "110     3\n",
       "98      3\n",
       "96      4\n",
       "44      4\n",
       "48      5\n",
       "85      6\n",
       "94      6\n",
       "65      7\n",
       "75      8\n",
       "92      8\n",
       "54     11\n",
       "52     11\n",
       "56     12\n",
       "50     13\n",
       "58     21\n",
       "86     21\n",
       "90     22\n",
       "84     23\n",
       "88     25\n",
       "82     30\n",
       "66     30\n",
       "62     34\n",
       "0      35\n",
       "60     37\n",
       "76     39\n",
       "80     40\n",
       "64     43\n",
       "72     44\n",
       "78     45\n",
       "68     45\n",
       "74     52\n",
       "70     57\n",
       "Name: BloodPressure, dtype: int64"
      ]
     },
     "execution_count": 7,
     "metadata": {},
     "output_type": "execute_result"
    }
   ],
   "source": [
    "df[\"BloodPressure\"].value_counts().sort_values()"
   ]
  },
  {
   "cell_type": "code",
   "execution_count": 8,
   "metadata": {
    "colab": {
     "base_uri": "https://localhost:8080/"
    },
    "executionInfo": {
     "elapsed": 1976,
     "status": "ok",
     "timestamp": 1618803955069,
     "user": {
      "displayName": "Nilesh Lad",
      "photoUrl": "",
      "userId": "15901509142618669299"
     },
     "user_tz": -330
    },
    "id": "05HGnsjPOBx7",
    "outputId": "8c2fbab1-f76f-4e3c-9c37-a6864e0dcdc2"
   },
   "outputs": [
    {
     "data": {
      "text/plain": [
       "99      1\n",
       "60      1\n",
       "51      1\n",
       "63      1\n",
       "56      1\n",
       "8       2\n",
       "7       2\n",
       "52      2\n",
       "54      2\n",
       "49      3\n",
       "50      3\n",
       "47      4\n",
       "48      4\n",
       "10      5\n",
       "44      5\n",
       "45      6\n",
       "43      6\n",
       "11      6\n",
       "16      6\n",
       "14      6\n",
       "12      7\n",
       "38      7\n",
       "46      8\n",
       "34      8\n",
       "21     10\n",
       "13     11\n",
       "42     11\n",
       "24     12\n",
       "20     13\n",
       "17     14\n",
       "15     14\n",
       "36     14\n",
       "41     15\n",
       "35     15\n",
       "25     16\n",
       "40     16\n",
       "22     16\n",
       "26     16\n",
       "37     16\n",
       "29     17\n",
       "39     18\n",
       "19     18\n",
       "31     19\n",
       "28     20\n",
       "18     20\n",
       "33     20\n",
       "23     22\n",
       "27     23\n",
       "30     27\n",
       "32     31\n",
       "0     227\n",
       "Name: SkinThickness, dtype: int64"
      ]
     },
     "execution_count": 8,
     "metadata": {},
     "output_type": "execute_result"
    }
   ],
   "source": [
    "df[\"SkinThickness\"].value_counts().sort_values()"
   ]
  },
  {
   "cell_type": "code",
   "execution_count": 9,
   "metadata": {
    "colab": {
     "base_uri": "https://localhost:8080/"
    },
    "executionInfo": {
     "elapsed": 2527,
     "status": "ok",
     "timestamp": 1618803955638,
     "user": {
      "displayName": "Nilesh Lad",
      "photoUrl": "",
      "userId": "15901509142618669299"
     },
     "user_tz": -330
    },
    "id": "RE9YXqgLOBx7",
    "outputId": "c77b70e3-6ac2-4f8c-fad4-7986aba6aaaa"
   },
   "outputs": [
    {
     "data": {
      "text/plain": [
       "42.8     1\n",
       "20.1     1\n",
       "30.3     1\n",
       "30.7     1\n",
       "43.2     1\n",
       "        ..\n",
       "33.3    10\n",
       "0.0     11\n",
       "31.2    12\n",
       "31.6    12\n",
       "32.0    13\n",
       "Name: BMI, Length: 248, dtype: int64"
      ]
     },
     "execution_count": 9,
     "metadata": {},
     "output_type": "execute_result"
    }
   ],
   "source": [
    "df[\"BMI\"].value_counts().sort_values()"
   ]
  },
  {
   "cell_type": "markdown",
   "metadata": {
    "id": "z_x8IgiBOBx8"
   },
   "source": [
    "<p><b><li>Here we can observe that the null values is replaced by 0, \n",
    "    because how a person can have BMI, skinthickness, BloodPressure, etc \n",
    "    as 0 it is not possible so we will replace it with some central tendency.</b></li></p>   "
   ]
  },
  {
   "cell_type": "code",
   "execution_count": 10,
   "metadata": {
    "executionInfo": {
     "elapsed": 2525,
     "status": "ok",
     "timestamp": 1618803955639,
     "user": {
      "displayName": "Nilesh Lad",
      "photoUrl": "",
      "userId": "15901509142618669299"
     },
     "user_tz": -330
    },
    "id": "UBT7kH1WOBx9"
   },
   "outputs": [],
   "source": [
    "# Replacing 0 by NaN\n",
    "\n",
    "df[['Glucose','BloodPressure','SkinThickness','Insulin','BMI']] = df[['Glucose','BloodPressure','SkinThickness','Insulin','BMI']].replace(0,np.NaN)"
   ]
  },
  {
   "cell_type": "code",
   "execution_count": 11,
   "metadata": {
    "colab": {
     "base_uri": "https://localhost:8080/"
    },
    "executionInfo": {
     "elapsed": 2510,
     "status": "ok",
     "timestamp": 1618803955640,
     "user": {
      "displayName": "Nilesh Lad",
      "photoUrl": "",
      "userId": "15901509142618669299"
     },
     "user_tz": -330
    },
    "id": "KAVJma1rOBx9",
    "outputId": "e11a7f92-1ef3-4ae3-d814-598409357636"
   },
   "outputs": [
    {
     "data": {
      "text/plain": [
       "Pregnancies                   0\n",
       "Glucose                       5\n",
       "BloodPressure                35\n",
       "SkinThickness               227\n",
       "Insulin                     374\n",
       "BMI                          11\n",
       "DiabetesPedigreeFunction      0\n",
       "Age                           0\n",
       "Outcome                       0\n",
       "dtype: int64"
      ]
     },
     "execution_count": 11,
     "metadata": {},
     "output_type": "execute_result"
    }
   ],
   "source": [
    "# Again, getting no. of missing values in each column \n",
    "\n",
    "df.isnull().sum()\n"
   ]
  },
  {
   "cell_type": "code",
   "execution_count": 12,
   "metadata": {
    "executionInfo": {
     "elapsed": 2506,
     "status": "ok",
     "timestamp": 1618803955641,
     "user": {
      "displayName": "Nilesh Lad",
      "photoUrl": "",
      "userId": "15901509142618669299"
     },
     "user_tz": -330
    },
    "id": "-5a79MHeOBx-"
   },
   "outputs": [],
   "source": [
    "# Filling NaN values \n",
    "\n",
    "df['Glucose'].fillna(df['Glucose'].median(), inplace = True)\n",
    "df['BloodPressure'].fillna(df['BloodPressure'].median(), inplace = True)\n",
    "df['SkinThickness'].fillna(df['SkinThickness'].median(), inplace = True)\n",
    "df['Insulin'].fillna(df['Insulin'].median(), inplace = True)\n",
    "df['BMI'].fillna(df['BMI'].mean(), inplace = True)"
   ]
  },
  {
   "cell_type": "code",
   "execution_count": 13,
   "metadata": {
    "colab": {
     "base_uri": "https://localhost:8080/"
    },
    "executionInfo": {
     "elapsed": 2486,
     "status": "ok",
     "timestamp": 1618803955642,
     "user": {
      "displayName": "Nilesh Lad",
      "photoUrl": "",
      "userId": "15901509142618669299"
     },
     "user_tz": -330
    },
    "id": "A__VRUt2OBx_",
    "outputId": "1926d997-8bee-4cb6-8317-fbdd52ff8eb9"
   },
   "outputs": [
    {
     "data": {
      "text/plain": [
       "Pregnancies                 0\n",
       "Glucose                     0\n",
       "BloodPressure               0\n",
       "SkinThickness               0\n",
       "Insulin                     0\n",
       "BMI                         0\n",
       "DiabetesPedigreeFunction    0\n",
       "Age                         0\n",
       "Outcome                     0\n",
       "dtype: int64"
      ]
     },
     "execution_count": 13,
     "metadata": {},
     "output_type": "execute_result"
    }
   ],
   "source": [
    "# Checking missing values correctly replaced\n",
    "\n",
    "df.isnull().sum()"
   ]
  },
  {
   "cell_type": "code",
   "execution_count": 14,
   "metadata": {
    "colab": {
     "base_uri": "https://localhost:8080/",
     "height": 407
    },
    "executionInfo": {
     "elapsed": 3785,
     "status": "ok",
     "timestamp": 1618803956988,
     "user": {
      "displayName": "Nilesh Lad",
      "photoUrl": "",
      "userId": "15901509142618669299"
     },
     "user_tz": -330
    },
    "id": "Ji55HBc3OByA",
    "outputId": "73921926-1dfd-47bf-ae7b-41f95552c56d"
   },
   "outputs": [
    {
     "data": {
      "text/plain": [
       "<AxesSubplot:>"
      ]
     },
     "execution_count": 14,
     "metadata": {},
     "output_type": "execute_result"
    },
    {
     "data": {
      "image/png": "[encoded data removed]",
      "text/plain": [
       "<Figure size 432x288 with 2 Axes>"
      ]
     },
     "metadata": {
      "needs_background": "light"
     },
     "output_type": "display_data"
    }
   ],
   "source": [
    "sns.heatmap(df.corr(),annot = True)"
   ]
  },
  {
   "cell_type": "code",
   "execution_count": 15,
   "metadata": {
    "colab": {
     "base_uri": "https://localhost:8080/",
     "height": 328
    },
    "executionInfo": {
     "elapsed": 3762,
     "status": "ok",
     "timestamp": 1618803956990,
     "user": {
      "displayName": "Nilesh Lad",
      "photoUrl": "",
      "userId": "15901509142618669299"
     },
     "user_tz": -330
    },
    "id": "NYuUQfQiOByA",
    "outputId": "dba8575c-5b80-41ed-860e-b6e2eed8c744"
   },
   "outputs": [
    {
     "data": {
      "text/html": [
       "<div>\n",
       "<style scoped>\n",
       "    .dataframe tbody tr th:only-of-type {\n",
       "        vertical-align: middle;\n",
       "    }\n",
       "\n",
       "    .dataframe tbody tr th {\n",
       "        vertical-align: top;\n",
       "    }\n",
       "\n",
       "    .dataframe thead th {\n",
       "        text-align: right;\n",
       "    }\n",
       "</style>\n",
       "<table border=\"1\" class=\"dataframe\">\n",
       "  <thead>\n",
       "    <tr style=\"text-align: right;\">\n",
       "      <th></th>\n",
       "      <th>Pregnancies</th>\n",
       "      <th>Glucose</th>\n",
       "      <th>BloodPressure</th>\n",
       "      <th>SkinThickness</th>\n",
       "      <th>Insulin</th>\n",
       "      <th>BMI</th>\n",
       "      <th>DiabetesPedigreeFunction</th>\n",
       "      <th>Age</th>\n",
       "      <th>Outcome</th>\n",
       "    </tr>\n",
       "  </thead>\n",
       "  <tbody>\n",
       "    <tr>\n",
       "      <th>Pregnancies</th>\n",
       "      <td>1.000000</td>\n",
       "      <td>0.128213</td>\n",
       "      <td>0.208615</td>\n",
       "      <td>0.081770</td>\n",
       "      <td>0.025047</td>\n",
       "      <td>0.021565</td>\n",
       "      <td>-0.033523</td>\n",
       "      <td>0.544341</td>\n",
       "      <td>0.221898</td>\n",
       "    </tr>\n",
       "    <tr>\n",
       "      <th>Glucose</th>\n",
       "      <td>0.128213</td>\n",
       "      <td>1.000000</td>\n",
       "      <td>0.218937</td>\n",
       "      <td>0.192615</td>\n",
       "      <td>0.419451</td>\n",
       "      <td>0.230862</td>\n",
       "      <td>0.137327</td>\n",
       "      <td>0.266909</td>\n",
       "      <td>0.492782</td>\n",
       "    </tr>\n",
       "    <tr>\n",
       "      <th>BloodPressure</th>\n",
       "      <td>0.208615</td>\n",
       "      <td>0.218937</td>\n",
       "      <td>1.000000</td>\n",
       "      <td>0.191892</td>\n",
       "      <td>0.045363</td>\n",
       "      <td>0.281319</td>\n",
       "      <td>-0.002378</td>\n",
       "      <td>0.324915</td>\n",
       "      <td>0.165723</td>\n",
       "    </tr>\n",
       "    <tr>\n",
       "      <th>SkinThickness</th>\n",
       "      <td>0.081770</td>\n",
       "      <td>0.192615</td>\n",
       "      <td>0.191892</td>\n",
       "      <td>1.000000</td>\n",
       "      <td>0.155610</td>\n",
       "      <td>0.543162</td>\n",
       "      <td>0.102188</td>\n",
       "      <td>0.126107</td>\n",
       "      <td>0.214873</td>\n",
       "    </tr>\n",
       "    <tr>\n",
       "      <th>Insulin</th>\n",
       "      <td>0.025047</td>\n",
       "      <td>0.419451</td>\n",
       "      <td>0.045363</td>\n",
       "      <td>0.155610</td>\n",
       "      <td>1.000000</td>\n",
       "      <td>0.180170</td>\n",
       "      <td>0.126503</td>\n",
       "      <td>0.097101</td>\n",
       "      <td>0.203790</td>\n",
       "    </tr>\n",
       "    <tr>\n",
       "      <th>BMI</th>\n",
       "      <td>0.021565</td>\n",
       "      <td>0.230862</td>\n",
       "      <td>0.281319</td>\n",
       "      <td>0.543162</td>\n",
       "      <td>0.180170</td>\n",
       "      <td>1.000000</td>\n",
       "      <td>0.153400</td>\n",
       "      <td>0.025519</td>\n",
       "      <td>0.311924</td>\n",
       "    </tr>\n",
       "    <tr>\n",
       "      <th>DiabetesPedigreeFunction</th>\n",
       "      <td>-0.033523</td>\n",
       "      <td>0.137327</td>\n",
       "      <td>-0.002378</td>\n",
       "      <td>0.102188</td>\n",
       "      <td>0.126503</td>\n",
       "      <td>0.153400</td>\n",
       "      <td>1.000000</td>\n",
       "      <td>0.033561</td>\n",
       "      <td>0.173844</td>\n",
       "    </tr>\n",
       "    <tr>\n",
       "      <th>Age</th>\n",
       "      <td>0.544341</td>\n",
       "      <td>0.266909</td>\n",
       "      <td>0.324915</td>\n",
       "      <td>0.126107</td>\n",
       "      <td>0.097101</td>\n",
       "      <td>0.025519</td>\n",
       "      <td>0.033561</td>\n",
       "      <td>1.000000</td>\n",
       "      <td>0.238356</td>\n",
       "    </tr>\n",
       "    <tr>\n",
       "      <th>Outcome</th>\n",
       "      <td>0.221898</td>\n",
       "      <td>0.492782</td>\n",
       "      <td>0.165723</td>\n",
       "      <td>0.214873</td>\n",
       "      <td>0.203790</td>\n",
       "      <td>0.311924</td>\n",
       "      <td>0.173844</td>\n",
       "      <td>0.238356</td>\n",
       "      <td>1.000000</td>\n",
       "    </tr>\n",
       "  </tbody>\n",
       "</table>\n",
       "</div>"
      ],
      "text/plain": [
       "                          Pregnancies   Glucose  BloodPressure  SkinThickness  \\\n",
       "Pregnancies                  1.000000  0.128213       0.208615       0.081770   \n",
       "Glucose                      0.128213  1.000000       0.218937       0.192615   \n",
       "BloodPressure                0.208615  0.218937       1.000000       0.191892   \n",
       "SkinThickness                0.081770  0.192615       0.191892       1.000000   \n",
       "Insulin                      0.025047  0.419451       0.045363       0.155610   \n",
       "BMI                          0.021565  0.230862       0.281319       0.543162   \n",
       "DiabetesPedigreeFunction    -0.033523  0.137327      -0.002378       0.102188   \n",
       "Age                          0.544341  0.266909       0.324915       0.126107   \n",
       "Outcome                      0.221898  0.492782       0.165723       0.214873   \n",
       "\n",
       "                           Insulin       BMI  DiabetesPedigreeFunction  \\\n",
       "Pregnancies               0.025047  0.021565                 -0.033523   \n",
       "Glucose                   0.419451  0.230862                  0.137327   \n",
       "BloodPressure             0.045363  0.281319                 -0.002378   \n",
       "SkinThickness             0.155610  0.543162                  0.102188   \n",
       "Insulin                   1.000000  0.180170                  0.126503   \n",
       "BMI                       0.180170  1.000000                  0.153400   \n",
       "DiabetesPedigreeFunction  0.126503  0.153400                  1.000000   \n",
       "Age                       0.097101  0.025519                  0.033561   \n",
       "Outcome                   0.203790  0.311924                  0.173844   \n",
       "\n",
       "                               Age   Outcome  \n",
       "Pregnancies               0.544341  0.221898  \n",
       "Glucose                   0.266909  0.492782  \n",
       "BloodPressure             0.324915  0.165723  \n",
       "SkinThickness             0.126107  0.214873  \n",
       "Insulin                   0.097101  0.203790  \n",
       "BMI                       0.025519  0.311924  \n",
       "DiabetesPedigreeFunction  0.033561  0.173844  \n",
       "Age                       1.000000  0.238356  \n",
       "Outcome                   0.238356  1.000000  "
      ]
     },
     "execution_count": 15,
     "metadata": {},
     "output_type": "execute_result"
    }
   ],
   "source": [
    "# Finding pairwise correlation of all columns\n",
    "\n",
    "df.corr()"
   ]
  },
  {
   "cell_type": "code",
   "execution_count": 16,
   "metadata": {
    "colab": {
     "base_uri": "https://localhost:8080/"
    },
    "executionInfo": {
     "elapsed": 3740,
     "status": "ok",
     "timestamp": 1618803956991,
     "user": {
      "displayName": "Nilesh Lad",
      "photoUrl": "",
      "userId": "15901509142618669299"
     },
     "user_tz": -330
    },
    "id": "lEyY00qaOByB",
    "outputId": "5fc981be-f539-459f-b212-0117ec30391b"
   },
   "outputs": [
    {
     "data": {
      "text/plain": [
       "array([ 6,  1,  8,  0,  5,  3, 10,  2,  4,  7,  9, 11, 13, 15, 17, 12, 14],\n",
       "      dtype=int64)"
      ]
     },
     "execution_count": 16,
     "metadata": {},
     "output_type": "execute_result"
    }
   ],
   "source": [
    "# Getting unique values \n",
    "\n",
    "df['Pregnancies'].unique()"
   ]
  },
  {
   "cell_type": "code",
   "execution_count": 17,
   "metadata": {
    "colab": {
     "base_uri": "https://localhost:8080/"
    },
    "executionInfo": {
     "elapsed": 3727,
     "status": "ok",
     "timestamp": 1618803956993,
     "user": {
      "displayName": "Nilesh Lad",
      "photoUrl": "",
      "userId": "15901509142618669299"
     },
     "user_tz": -330
    },
    "id": "Zv_Q71jzOByC",
    "outputId": "557537f6-df14-44e1-abbc-09cc8d58252d"
   },
   "outputs": [
    {
     "data": {
      "text/plain": [
       "17      1\n",
       "15      1\n",
       "14      2\n",
       "12      9\n",
       "13     10\n",
       "11     11\n",
       "10     24\n",
       "9      28\n",
       "8      38\n",
       "7      45\n",
       "6      50\n",
       "5      57\n",
       "4      68\n",
       "3      75\n",
       "2     103\n",
       "0     111\n",
       "1     135\n",
       "Name: Pregnancies, dtype: int64"
      ]
     },
     "execution_count": 17,
     "metadata": {},
     "output_type": "execute_result"
    }
   ],
   "source": [
    "# Finding counts of unique values and sorting it in ascending order\n",
    "\n",
    "df['Pregnancies'].value_counts().sort_values()"
   ]
  },
  {
   "cell_type": "code",
   "execution_count": 18,
   "metadata": {
    "colab": {
     "base_uri": "https://localhost:8080/",
     "height": 173
    },
    "executionInfo": {
     "elapsed": 3702,
     "status": "ok",
     "timestamp": 1618803956995,
     "user": {
      "displayName": "Nilesh Lad",
      "photoUrl": "",
      "userId": "15901509142618669299"
     },
     "user_tz": -330
    },
    "id": "EZpwWD-uOByD",
    "outputId": "209cb008-7866-471e-c87b-e414fd3a2c63"
   },
   "outputs": [
    {
     "data": {
      "text/html": [
       "<div>\n",
       "<style scoped>\n",
       "    .dataframe tbody tr th:only-of-type {\n",
       "        vertical-align: middle;\n",
       "    }\n",
       "\n",
       "    .dataframe tbody tr th {\n",
       "        vertical-align: top;\n",
       "    }\n",
       "\n",
       "    .dataframe thead tr th {\n",
       "        text-align: left;\n",
       "    }\n",
       "\n",
       "    .dataframe thead tr:last-of-type th {\n",
       "        text-align: right;\n",
       "    }\n",
       "</style>\n",
       "<table border=\"1\" class=\"dataframe\">\n",
       "  <thead>\n",
       "    <tr>\n",
       "      <th></th>\n",
       "      <th colspan=\"3\" halign=\"left\">Pregnancies</th>\n",
       "      <th colspan=\"3\" halign=\"left\">Glucose</th>\n",
       "      <th colspan=\"3\" halign=\"left\">BloodPressure</th>\n",
       "    </tr>\n",
       "    <tr>\n",
       "      <th></th>\n",
       "      <th>max</th>\n",
       "      <th>min</th>\n",
       "      <th>mean</th>\n",
       "      <th>max</th>\n",
       "      <th>min</th>\n",
       "      <th>mean</th>\n",
       "      <th>max</th>\n",
       "      <th>min</th>\n",
       "      <th>mean</th>\n",
       "    </tr>\n",
       "    <tr>\n",
       "      <th>Outcome</th>\n",
       "      <th></th>\n",
       "      <th></th>\n",
       "      <th></th>\n",
       "      <th></th>\n",
       "      <th></th>\n",
       "      <th></th>\n",
       "      <th></th>\n",
       "      <th></th>\n",
       "      <th></th>\n",
       "    </tr>\n",
       "  </thead>\n",
       "  <tbody>\n",
       "    <tr>\n",
       "      <th>0</th>\n",
       "      <td>13</td>\n",
       "      <td>0</td>\n",
       "      <td>3.298000</td>\n",
       "      <td>197.0</td>\n",
       "      <td>44.0</td>\n",
       "      <td>110.682000</td>\n",
       "      <td>122.0</td>\n",
       "      <td>24.0</td>\n",
       "      <td>70.920000</td>\n",
       "    </tr>\n",
       "    <tr>\n",
       "      <th>1</th>\n",
       "      <td>17</td>\n",
       "      <td>0</td>\n",
       "      <td>4.865672</td>\n",
       "      <td>199.0</td>\n",
       "      <td>78.0</td>\n",
       "      <td>142.130597</td>\n",
       "      <td>114.0</td>\n",
       "      <td>30.0</td>\n",
       "      <td>75.123134</td>\n",
       "    </tr>\n",
       "  </tbody>\n",
       "</table>\n",
       "</div>"
      ],
      "text/plain": [
       "        Pregnancies               Glucose                   BloodPressure  \\\n",
       "                max min      mean     max   min        mean           max   \n",
       "Outcome                                                                     \n",
       "0                13   0  3.298000   197.0  44.0  110.682000         122.0   \n",
       "1                17   0  4.865672   199.0  78.0  142.130597         114.0   \n",
       "\n",
       "                          \n",
       "          min       mean  \n",
       "Outcome                   \n",
       "0        24.0  70.920000  \n",
       "1        30.0  75.123134  "
      ]
     },
     "execution_count": 18,
     "metadata": {},
     "output_type": "execute_result"
    }
   ],
   "source": [
    "# Grouping predictor variables by target variable\n",
    "\n",
    "df.groupby(\"Outcome\")[[\"Pregnancies\",\"Glucose\",\"BloodPressure\"]].agg(['max','min','mean'])"
   ]
  },
  {
   "cell_type": "code",
   "execution_count": 19,
   "metadata": {
    "colab": {
     "base_uri": "https://localhost:8080/",
     "height": 173
    },
    "executionInfo": {
     "elapsed": 3679,
     "status": "ok",
     "timestamp": 1618803956997,
     "user": {
      "displayName": "Nilesh Lad",
      "photoUrl": "",
      "userId": "15901509142618669299"
     },
     "user_tz": -330
    },
    "id": "1bUEwLEhOByE",
    "outputId": "7af02452-f4ba-46fb-c0a1-5d5864c3b87a"
   },
   "outputs": [
    {
     "data": {
      "text/html": [
       "<div>\n",
       "<style scoped>\n",
       "    .dataframe tbody tr th:only-of-type {\n",
       "        vertical-align: middle;\n",
       "    }\n",
       "\n",
       "    .dataframe tbody tr th {\n",
       "        vertical-align: top;\n",
       "    }\n",
       "\n",
       "    .dataframe thead tr th {\n",
       "        text-align: left;\n",
       "    }\n",
       "\n",
       "    .dataframe thead tr:last-of-type th {\n",
       "        text-align: right;\n",
       "    }\n",
       "</style>\n",
       "<table border=\"1\" class=\"dataframe\">\n",
       "  <thead>\n",
       "    <tr>\n",
       "      <th></th>\n",
       "      <th colspan=\"3\" halign=\"left\">SkinThickness</th>\n",
       "      <th colspan=\"3\" halign=\"left\">Insulin</th>\n",
       "      <th colspan=\"3\" halign=\"left\">BMI</th>\n",
       "      <th colspan=\"3\" halign=\"left\">Age</th>\n",
       "    </tr>\n",
       "    <tr>\n",
       "      <th></th>\n",
       "      <th>max</th>\n",
       "      <th>min</th>\n",
       "      <th>mean</th>\n",
       "      <th>max</th>\n",
       "      <th>min</th>\n",
       "      <th>mean</th>\n",
       "      <th>max</th>\n",
       "      <th>min</th>\n",
       "      <th>mean</th>\n",
       "      <th>max</th>\n",
       "      <th>min</th>\n",
       "      <th>mean</th>\n",
       "    </tr>\n",
       "    <tr>\n",
       "      <th>Outcome</th>\n",
       "      <th></th>\n",
       "      <th></th>\n",
       "      <th></th>\n",
       "      <th></th>\n",
       "      <th></th>\n",
       "      <th></th>\n",
       "      <th></th>\n",
       "      <th></th>\n",
       "      <th></th>\n",
       "      <th></th>\n",
       "      <th></th>\n",
       "      <th></th>\n",
       "    </tr>\n",
       "  </thead>\n",
       "  <tbody>\n",
       "    <tr>\n",
       "      <th>0</th>\n",
       "      <td>60.0</td>\n",
       "      <td>7.0</td>\n",
       "      <td>27.726000</td>\n",
       "      <td>744.0</td>\n",
       "      <td>15.0</td>\n",
       "      <td>127.792000</td>\n",
       "      <td>57.3</td>\n",
       "      <td>18.2</td>\n",
       "      <td>30.888434</td>\n",
       "      <td>81</td>\n",
       "      <td>21</td>\n",
       "      <td>31.190000</td>\n",
       "    </tr>\n",
       "    <tr>\n",
       "      <th>1</th>\n",
       "      <td>99.0</td>\n",
       "      <td>7.0</td>\n",
       "      <td>31.686567</td>\n",
       "      <td>846.0</td>\n",
       "      <td>14.0</td>\n",
       "      <td>164.701493</td>\n",
       "      <td>67.1</td>\n",
       "      <td>22.9</td>\n",
       "      <td>35.384757</td>\n",
       "      <td>70</td>\n",
       "      <td>21</td>\n",
       "      <td>37.067164</td>\n",
       "    </tr>\n",
       "  </tbody>\n",
       "</table>\n",
       "</div>"
      ],
      "text/plain": [
       "        SkinThickness                 Insulin                     BMI        \\\n",
       "                  max  min       mean     max   min        mean   max   min   \n",
       "Outcome                                                                       \n",
       "0                60.0  7.0  27.726000   744.0  15.0  127.792000  57.3  18.2   \n",
       "1                99.0  7.0  31.686567   846.0  14.0  164.701493  67.1  22.9   \n",
       "\n",
       "                   Age                 \n",
       "              mean max min       mean  \n",
       "Outcome                                \n",
       "0        30.888434  81  21  31.190000  \n",
       "1        35.384757  70  21  37.067164  "
      ]
     },
     "execution_count": 19,
     "metadata": {},
     "output_type": "execute_result"
    }
   ],
   "source": [
    "df.groupby(\"Outcome\")[[\"SkinThickness\",\"Insulin\",\"BMI\",\"Age\"]].agg(['max','min','mean'])"
   ]
  },
  {
   "cell_type": "code",
   "execution_count": 20,
   "metadata": {
    "executionInfo": {
     "elapsed": 3678,
     "status": "ok",
     "timestamp": 1618803957001,
     "user": {
      "displayName": "Nilesh Lad",
      "photoUrl": "",
      "userId": "15901509142618669299"
     },
     "user_tz": -330
    },
    "id": "OZsCUZ8FOByE"
   },
   "outputs": [],
   "source": [
    "# Model\n",
    "X = df.drop('Outcome',axis = 1)\n",
    "y = df['Outcome']"
   ]
  },
  {
   "cell_type": "code",
   "execution_count": 21,
   "metadata": {
    "executionInfo": {
     "elapsed": 3673,
     "status": "ok",
     "timestamp": 1618803957002,
     "user": {
      "displayName": "Nilesh Lad",
      "photoUrl": "",
      "userId": "15901509142618669299"
     },
     "user_tz": -330
    },
    "id": "8Xf8l1WbOByF"
   },
   "outputs": [],
   "source": [
    "X_train,X_test,y_train,y_test = train_test_split(X,y,test_size=0.3,random_state=1)"
   ]
  },
  {
   "cell_type": "code",
   "execution_count": 22,
   "metadata": {
    "executionInfo": {
     "elapsed": 3669,
     "status": "ok",
     "timestamp": 1618803957004,
     "user": {
      "displayName": "Nilesh Lad",
      "photoUrl": "",
      "userId": "15901509142618669299"
     },
     "user_tz": -330
    },
    "id": "FWNG5APMOByF"
   },
   "outputs": [],
   "source": [
    "# Naive aggregation\n",
    "\n",
    "lr = LogisticRegression()\n",
    "dt1 = DecisionTreeClassifier()\n",
    "dt2 = DecisionTreeClassifier(criterion=\"entropy\")"
   ]
  },
  {
   "cell_type": "code",
   "execution_count": 23,
   "metadata": {
    "executionInfo": {
     "elapsed": 3659,
     "status": "ok",
     "timestamp": 1618803957005,
     "user": {
      "displayName": "Nilesh Lad",
      "photoUrl": "",
      "userId": "15901509142618669299"
     },
     "user_tz": -330
    },
    "id": "ARYIcWtgOByG"
   },
   "outputs": [],
   "source": [
    "model_list = [('lr',lr),('dt1',dt1),('dt2',dt2)]"
   ]
  },
  {
   "cell_type": "code",
   "execution_count": 24,
   "metadata": {
    "executionInfo": {
     "elapsed": 3651,
     "status": "ok",
     "timestamp": 1618803957007,
     "user": {
      "displayName": "Nilesh Lad",
      "photoUrl": "",
      "userId": "15901509142618669299"
     },
     "user_tz": -330
    },
    "id": "Ls7VQYnFOByG"
   },
   "outputs": [],
   "source": [
    "from sklearn.ensemble import VotingClassifier"
   ]
  },
  {
   "cell_type": "code",
   "execution_count": 25,
   "metadata": {
    "executionInfo": {
     "elapsed": 3649,
     "status": "ok",
     "timestamp": 1618803957009,
     "user": {
      "displayName": "Nilesh Lad",
      "photoUrl": "",
      "userId": "15901509142618669299"
     },
     "user_tz": -330
    },
    "id": "neVgyUtSOByH"
   },
   "outputs": [],
   "source": [
    "# hard voting\n",
    "vc1 =  VotingClassifier(estimators=model_list)"
   ]
  },
  {
   "cell_type": "code",
   "execution_count": 26,
   "metadata": {
    "colab": {
     "base_uri": "https://localhost:8080/"
    },
    "executionInfo": {
     "elapsed": 3628,
     "status": "ok",
     "timestamp": 1618803957010,
     "user": {
      "displayName": "Nilesh Lad",
      "photoUrl": "",
      "userId": "15901509142618669299"
     },
     "user_tz": -330
    },
    "id": "6U8GEMQQOByH",
    "outputId": "25aacbca-a152-40de-830b-e34857aed5c7"
   },
   "outputs": [
    {
     "data": {
      "text/plain": [
       "VotingClassifier(estimators=[('lr', LogisticRegression()),\n",
       "                             ('dt1', DecisionTreeClassifier()),\n",
       "                             ('dt2',\n",
       "                              DecisionTreeClassifier(criterion='entropy'))])"
      ]
     },
     "execution_count": 26,
     "metadata": {},
     "output_type": "execute_result"
    }
   ],
   "source": [
    "vc1.fit(X_train,y_train)"
   ]
  },
  {
   "cell_type": "code",
   "execution_count": 27,
   "metadata": {
    "executionInfo": {
     "elapsed": 3624,
     "status": "ok",
     "timestamp": 1618803957012,
     "user": {
      "displayName": "Nilesh Lad",
      "photoUrl": "",
      "userId": "15901509142618669299"
     },
     "user_tz": -330
    },
    "id": "B3HYX0QxOByI"
   },
   "outputs": [],
   "source": [
    "y_pred = vc1.predict(X_test)"
   ]
  },
  {
   "cell_type": "code",
   "execution_count": 28,
   "metadata": {
    "colab": {
     "base_uri": "https://localhost:8080/"
    },
    "executionInfo": {
     "elapsed": 3613,
     "status": "ok",
     "timestamp": 1618803957013,
     "user": {
      "displayName": "Nilesh Lad",
      "photoUrl": "",
      "userId": "15901509142618669299"
     },
     "user_tz": -330
    },
    "id": "2qdTI_kkOByI",
    "outputId": "be2dbb69-df0c-40ea-b541-a24ef5e846da"
   },
   "outputs": [
    {
     "name": "stdout",
     "output_type": "stream",
     "text": [
      "              precision    recall  f1-score   support\n",
      "\n",
      "           0       0.80      0.88      0.84       146\n",
      "           1       0.75      0.62      0.68        85\n",
      "\n",
      "    accuracy                           0.78       231\n",
      "   macro avg       0.77      0.75      0.76       231\n",
      "weighted avg       0.78      0.78      0.78       231\n",
      "\n"
     ]
    }
   ],
   "source": [
    "print(classification_report(y_test,y_pred))"
   ]
  },
  {
   "cell_type": "code",
   "execution_count": 29,
   "metadata": {
    "executionInfo": {
     "elapsed": 3607,
     "status": "ok",
     "timestamp": 1618803957014,
     "user": {
      "displayName": "Nilesh Lad",
      "photoUrl": "",
      "userId": "15901509142618669299"
     },
     "user_tz": -330
    },
    "id": "sFtNFrKfOByJ"
   },
   "outputs": [],
   "source": [
    "# soft voting\n",
    "vc2 =  VotingClassifier(estimators=model_list,voting=\"soft\")"
   ]
  },
  {
   "cell_type": "code",
   "execution_count": 30,
   "metadata": {
    "colab": {
     "base_uri": "https://localhost:8080/"
    },
    "executionInfo": {
     "elapsed": 4597,
     "status": "ok",
     "timestamp": 1618803958017,
     "user": {
      "displayName": "Nilesh Lad",
      "photoUrl": "",
      "userId": "15901509142618669299"
     },
     "user_tz": -330
    },
    "id": "ldCTYHglOByK",
    "outputId": "51b37221-0932-4f92-a828-d218c67af021"
   },
   "outputs": [
    {
     "name": "stdout",
     "output_type": "stream",
     "text": [
      "              precision    recall  f1-score   support\n",
      "\n",
      "           0       0.78      0.82      0.80       146\n",
      "           1       0.67      0.61      0.64        85\n",
      "\n",
      "    accuracy                           0.74       231\n",
      "   macro avg       0.73      0.72      0.72       231\n",
      "weighted avg       0.74      0.74      0.74       231\n",
      "\n"
     ]
    }
   ],
   "source": [
    "vc2.fit(X_train,y_train)\n",
    "y_pred = vc2.predict(X_test)\n",
    "print(classification_report(y_test,y_pred))"
   ]
  },
  {
   "cell_type": "code",
   "execution_count": 31,
   "metadata": {
    "executionInfo": {
     "elapsed": 4592,
     "status": "ok",
     "timestamp": 1618803958018,
     "user": {
      "displayName": "Nilesh Lad",
      "photoUrl": "",
      "userId": "15901509142618669299"
     },
     "user_tz": -330
    },
    "id": "taWxYmY0OByK"
   },
   "outputs": [],
   "source": [
    "# Bootstrap Aggregation"
   ]
  },
  {
   "cell_type": "code",
   "execution_count": 32,
   "metadata": {
    "executionInfo": {
     "elapsed": 4589,
     "status": "ok",
     "timestamp": 1618803958019,
     "user": {
      "displayName": "Nilesh Lad",
      "photoUrl": "",
      "userId": "15901509142618669299"
     },
     "user_tz": -330
    },
    "id": "pFS8mAUuOByL"
   },
   "outputs": [],
   "source": [
    "from sklearn.ensemble import BaggingClassifier"
   ]
  },
  {
   "cell_type": "code",
   "execution_count": 33,
   "metadata": {
    "executionInfo": {
     "elapsed": 4586,
     "status": "ok",
     "timestamp": 1618803958020,
     "user": {
      "displayName": "Nilesh Lad",
      "photoUrl": "",
      "userId": "15901509142618669299"
     },
     "user_tz": -330
    },
    "id": "dJJKVx16OByL"
   },
   "outputs": [],
   "source": [
    "bg = BaggingClassifier(LogisticRegression(), n_estimators=10, max_samples=100,random_state=1)"
   ]
  },
  {
   "cell_type": "code",
   "execution_count": 34,
   "metadata": {
    "colab": {
     "base_uri": "https://localhost:8080/"
    },
    "executionInfo": {
     "elapsed": 4574,
     "status": "ok",
     "timestamp": 1618803958022,
     "user": {
      "displayName": "Nilesh Lad",
      "photoUrl": "",
      "userId": "15901509142618669299"
     },
     "user_tz": -330
    },
    "id": "BPgc3yNsOByM",
    "outputId": "a382bc1a-fbc5-43c8-ce0e-62d7f40426e1"
   },
   "outputs": [
    {
     "name": "stdout",
     "output_type": "stream",
     "text": [
      "              precision    recall  f1-score   support\n",
      "\n",
      "           0       0.80      0.88      0.84       146\n",
      "           1       0.75      0.62      0.68        85\n",
      "\n",
      "    accuracy                           0.78       231\n",
      "   macro avg       0.77      0.75      0.76       231\n",
      "weighted avg       0.78      0.78      0.78       231\n",
      "\n"
     ]
    }
   ],
   "source": [
    "bg.fit(X_train,y_train)\n",
    "y_pred = bg.predict(X_test)\n",
    "print(classification_report(y_test,y_pred))"
   ]
  },
  {
   "cell_type": "code",
   "execution_count": 35,
   "metadata": {
    "executionInfo": {
     "elapsed": 4572,
     "status": "ok",
     "timestamp": 1618803958023,
     "user": {
      "displayName": "Nilesh Lad",
      "photoUrl": "",
      "userId": "15901509142618669299"
     },
     "user_tz": -330
    },
    "id": "QriWTCSBOByN"
   },
   "outputs": [],
   "source": [
    "# Pasting\n",
    "bg2 = BaggingClassifier(LogisticRegression(), max_samples=100,random_state=1,bootstrap=False)"
   ]
  },
  {
   "cell_type": "code",
   "execution_count": 36,
   "metadata": {
    "colab": {
     "base_uri": "https://localhost:8080/"
    },
    "executionInfo": {
     "elapsed": 4559,
     "status": "ok",
     "timestamp": 1618803958027,
     "user": {
      "displayName": "Nilesh Lad",
      "photoUrl": "",
      "userId": "15901509142618669299"
     },
     "user_tz": -330
    },
    "id": "aNi2dkKEOByN",
    "outputId": "b23beda4-b15a-427f-c54a-670161b5f428"
   },
   "outputs": [
    {
     "name": "stdout",
     "output_type": "stream",
     "text": [
      "              precision    recall  f1-score   support\n",
      "\n",
      "           0       0.78      0.90      0.84       146\n",
      "           1       0.77      0.58      0.66        85\n",
      "\n",
      "    accuracy                           0.78       231\n",
      "   macro avg       0.78      0.74      0.75       231\n",
      "weighted avg       0.78      0.78      0.77       231\n",
      "\n"
     ]
    }
   ],
   "source": [
    "bg2.fit(X_train,y_train)\n",
    "y_pred = bg2.predict(X_test)\n",
    "print(classification_report(y_test,y_pred))"
   ]
  },
  {
   "cell_type": "code",
   "execution_count": 37,
   "metadata": {
    "executionInfo": {
     "elapsed": 4556,
     "status": "ok",
     "timestamp": 1618803958028,
     "user": {
      "displayName": "Nilesh Lad",
      "photoUrl": "",
      "userId": "15901509142618669299"
     },
     "user_tz": -330
    },
    "id": "MsWb6NrzOByO"
   },
   "outputs": [],
   "source": [
    "# Random Forest"
   ]
  },
  {
   "cell_type": "code",
   "execution_count": 38,
   "metadata": {
    "executionInfo": {
     "elapsed": 4552,
     "status": "ok",
     "timestamp": 1618803958029,
     "user": {
      "displayName": "Nilesh Lad",
      "photoUrl": "",
      "userId": "15901509142618669299"
     },
     "user_tz": -330
    },
    "id": "zay2T-kjOByO"
   },
   "outputs": [],
   "source": [
    "from sklearn.ensemble import RandomForestClassifier"
   ]
  },
  {
   "cell_type": "code",
   "execution_count": 39,
   "metadata": {
    "executionInfo": {
     "elapsed": 4549,
     "status": "ok",
     "timestamp": 1618803958030,
     "user": {
      "displayName": "Nilesh Lad",
      "photoUrl": "",
      "userId": "15901509142618669299"
     },
     "user_tz": -330
    },
    "id": "U7IXvSCpOByP"
   },
   "outputs": [],
   "source": [
    "rf = RandomForestClassifier(n_estimators=10,max_features=2,random_state=1)"
   ]
  },
  {
   "cell_type": "code",
   "execution_count": 40,
   "metadata": {
    "colab": {
     "base_uri": "https://localhost:8080/"
    },
    "executionInfo": {
     "elapsed": 4535,
     "status": "ok",
     "timestamp": 1618803958031,
     "user": {
      "displayName": "Nilesh Lad",
      "photoUrl": "",
      "userId": "15901509142618669299"
     },
     "user_tz": -330
    },
    "id": "ot1A_cJ-OByP",
    "outputId": "6ca17ae6-2172-4252-d5d6-ca448db8d0e7"
   },
   "outputs": [
    {
     "name": "stdout",
     "output_type": "stream",
     "text": [
      "              precision    recall  f1-score   support\n",
      "\n",
      "           0       0.79      0.92      0.85       146\n",
      "           1       0.81      0.59      0.68        85\n",
      "\n",
      "    accuracy                           0.80       231\n",
      "   macro avg       0.80      0.75      0.77       231\n",
      "weighted avg       0.80      0.80      0.79       231\n",
      "\n"
     ]
    }
   ],
   "source": [
    "rf.fit(X_train,y_train)\n",
    "y_pred = rf.predict(X_test)\n",
    "print(classification_report(y_test,y_pred))"
   ]
  },
  {
   "cell_type": "code",
   "execution_count": 41,
   "metadata": {
    "executionInfo": {
     "elapsed": 4534,
     "status": "ok",
     "timestamp": 1618803958033,
     "user": {
      "displayName": "Nilesh Lad",
      "photoUrl": "",
      "userId": "15901509142618669299"
     },
     "user_tz": -330
    },
    "id": "KXGLiW-GOByQ"
   },
   "outputs": [],
   "source": [
    "# stacking\n",
    "from mlxtend.classifier import StackingClassifier"
   ]
  },
  {
   "cell_type": "code",
   "execution_count": 42,
   "metadata": {
    "executionInfo": {
     "elapsed": 4531,
     "status": "ok",
     "timestamp": 1618803958034,
     "user": {
      "displayName": "Nilesh Lad",
      "photoUrl": "",
      "userId": "15901509142618669299"
     },
     "user_tz": -330
    },
    "id": "K_UEJumEOByQ"
   },
   "outputs": [],
   "source": [
    "# !conda install mlxtend --channel conda-forge"
   ]
  },
  {
   "cell_type": "code",
   "execution_count": 43,
   "metadata": {
    "executionInfo": {
     "elapsed": 4524,
     "status": "ok",
     "timestamp": 1618803958036,
     "user": {
      "displayName": "Nilesh Lad",
      "photoUrl": "",
      "userId": "15901509142618669299"
     },
     "user_tz": -330
    },
    "id": "cYGY14bYOByR"
   },
   "outputs": [],
   "source": [
    "lr = LogisticRegression()\n",
    "dt1 = DecisionTreeClassifier()\n",
    "dt2 = DecisionTreeClassifier(criterion=\"entropy\")"
   ]
  },
  {
   "cell_type": "code",
   "execution_count": 44,
   "metadata": {
    "executionInfo": {
     "elapsed": 4518,
     "status": "ok",
     "timestamp": 1618803958037,
     "user": {
      "displayName": "Nilesh Lad",
      "photoUrl": "",
      "userId": "15901509142618669299"
     },
     "user_tz": -330
    },
    "id": "uWylloFlOByR"
   },
   "outputs": [],
   "source": [
    "model_list = [lr, dt1, dt2]"
   ]
  },
  {
   "cell_type": "code",
   "execution_count": 45,
   "metadata": {
    "executionInfo": {
     "elapsed": 4506,
     "status": "ok",
     "timestamp": 1618803958038,
     "user": {
      "displayName": "Nilesh Lad",
      "photoUrl": "",
      "userId": "15901509142618669299"
     },
     "user_tz": -330
    },
    "id": "nNCxk6VlOByT"
   },
   "outputs": [],
   "source": [
    "meta_lr = LogisticRegression()"
   ]
  },
  {
   "cell_type": "code",
   "execution_count": 46,
   "metadata": {
    "executionInfo": {
     "elapsed": 4495,
     "status": "ok",
     "timestamp": 1618803958040,
     "user": {
      "displayName": "Nilesh Lad",
      "photoUrl": "",
      "userId": "15901509142618669299"
     },
     "user_tz": -330
    },
    "id": "1bDINjXaOByU"
   },
   "outputs": [],
   "source": [
    "sc = StackingClassifier(classifiers=model_list, meta_classifier=meta_lr)"
   ]
  },
  {
   "cell_type": "code",
   "execution_count": 47,
   "metadata": {
    "colab": {
     "base_uri": "https://localhost:8080/"
    },
    "executionInfo": {
     "elapsed": 4483,
     "status": "ok",
     "timestamp": 1618803958041,
     "user": {
      "displayName": "Nilesh Lad",
      "photoUrl": "",
      "userId": "15901509142618669299"
     },
     "user_tz": -330
    },
    "id": "udQ8GYv4OByV",
    "outputId": "74a3d8ba-e0b2-4bf0-dbe9-2184ce048540"
   },
   "outputs": [
    {
     "data": {
      "text/plain": [
       "StackingClassifier(classifiers=[LogisticRegression(), DecisionTreeClassifier(),\n",
       "                                DecisionTreeClassifier(criterion='entropy')],\n",
       "                   meta_classifier=LogisticRegression())"
      ]
     },
     "execution_count": 47,
     "metadata": {},
     "output_type": "execute_result"
    }
   ],
   "source": [
    "sc.fit(X_train,y_train)"
   ]
  },
  {
   "cell_type": "code",
   "execution_count": 48,
   "metadata": {
    "executionInfo": {
     "elapsed": 4477,
     "status": "ok",
     "timestamp": 1618803958042,
     "user": {
      "displayName": "Nilesh Lad",
      "photoUrl": "",
      "userId": "15901509142618669299"
     },
     "user_tz": -330
    },
    "id": "EfE92-kFOByW"
   },
   "outputs": [],
   "source": [
    "y_pred = sc.predict(X_test)"
   ]
  },
  {
   "cell_type": "code",
   "execution_count": 49,
   "metadata": {
    "colab": {
     "base_uri": "https://localhost:8080/"
    },
    "executionInfo": {
     "elapsed": 4461,
     "status": "ok",
     "timestamp": 1618803958042,
     "user": {
      "displayName": "Nilesh Lad",
      "photoUrl": "",
      "userId": "15901509142618669299"
     },
     "user_tz": -330
    },
    "id": "jqwgYnICOByZ",
    "outputId": "67e397fd-4ec8-4a81-c20f-2b419d73c9a4"
   },
   "outputs": [
    {
     "name": "stdout",
     "output_type": "stream",
     "text": [
      "              precision    recall  f1-score   support\n",
      "\n",
      "           0       0.78      0.84      0.81       146\n",
      "           1       0.69      0.60      0.64        85\n",
      "\n",
      "    accuracy                           0.75       231\n",
      "   macro avg       0.74      0.72      0.73       231\n",
      "weighted avg       0.75      0.75      0.75       231\n",
      "\n"
     ]
    }
   ],
   "source": [
    "print(classification_report(y_test,y_pred))"
   ]
  },
  {
   "cell_type": "code",
   "execution_count": 50,
   "metadata": {
    "colab": {
     "base_uri": "https://localhost:8080/"
    },
    "executionInfo": {
     "elapsed": 4445,
     "status": "ok",
     "timestamp": 1618803958043,
     "user": {
      "displayName": "Nilesh Lad",
      "photoUrl": "",
      "userId": "15901509142618669299"
     },
     "user_tz": -330
    },
    "id": "Awg8su4POByc",
    "outputId": "776d8793-c158-4400-f95f-2bf1d8756143"
   },
   "outputs": [
    {
     "data": {
      "text/plain": [
       "array([[0.71229784, 4.01885897, 4.01885897]])"
      ]
     },
     "execution_count": 50,
     "metadata": {},
     "output_type": "execute_result"
    }
   ],
   "source": [
    "sc.meta_clf_.coef_"
   ]
  },
  {
   "cell_type": "code",
   "execution_count": null,
   "metadata": {
    "executionInfo": {
     "elapsed": 4443,
     "status": "ok",
     "timestamp": 1618803958045,
     "user": {
      "displayName": "Nilesh Lad",
      "photoUrl": "",
      "userId": "15901509142618669299"
     },
     "user_tz": -330
    },
    "id": "VvE5OWB0OByd"
   },
   "outputs": [],
   "source": []
  }
 ],
 "metadata": {
  "colab": {
   "name": "Ensembling.ipynb",
   "provenance": []
  },
  "kernelspec": {
   "display_name": "Python 3",
   "language": "python",
   "name": "python3"
  },
  "language_info": {
   "codemirror_mode": {
    "name": "ipython",
    "version": 3
   },
   "file_extension": ".py",
   "mimetype": "text/x-python",
   "name": "python",
   "nbconvert_exporter": "python",
   "pygments_lexer": "ipython3",
   "version": "3.8.5"
  }
 },
 "nbformat": 4,
 "nbformat_minor": 1
}
